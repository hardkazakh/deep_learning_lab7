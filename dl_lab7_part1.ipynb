{
  "cells": [
    {
      "cell_type": "markdown",
      "id": "b261d1af",
      "metadata": {
        "id": "b261d1af"
      },
      "source": [
        "<center><h1> Assignment 7"
      ]
    },
    {
      "cell_type": "markdown",
      "id": "e8b99107",
      "metadata": {
        "id": "e8b99107"
      },
      "source": [
        "1. Load your dataset from the “CO2 Emissions.csv” csv file.\n",
        "2. Explore your dataset and list the name of the text columns.\n",
        "3. Explore your dataset and check if there is any column with missing values.\n",
        "4. Select your input variables (only select integer valued columns and columns without missing \n",
        "values) and ourput variable (hint: output colum is the one you want to predict).\n",
        "5. Split your dataset as %80 training and %20 testing.\n",
        "6. Scale your training data and testing data inputs.\n",
        "7. Implement your neural network object using the ski-learn python library(you can design a \n",
        "network with one or 2 or 3 layers with any amount of the neurons). \n",
        "8. Train (fit) your network.\n",
        "9. Report the accuracy (R2 score) of the neural network for the test datasets.\n",
        "10. Make a prediction for the given input values:\n",
        " Engine Size(L) = 5.6 Cylinders= 8 Fuel Consumption City (L/100 km) =17.5 Fuel Consumption Hwy \n",
        "(L/100 km) = 12 Fuel Consumption Comb (L/100 km) =15 and Fuel Consumption Comb (mpg) = 1"
      ]
    },
    {
      "cell_type": "code",
      "source": [
        "from google.colab import drive"
      ],
      "metadata": {
        "id": "fdGIuOO90o-3"
      },
      "id": "fdGIuOO90o-3",
      "execution_count": 4,
      "outputs": []
    },
    {
      "cell_type": "code",
      "source": [
        "drive.mount('/content/gdrive')"
      ],
      "metadata": {
        "colab": {
          "base_uri": "https://localhost:8080/"
        },
        "id": "H2lpDTRi0pOp",
        "outputId": "c95d0ee4-1614-410a-ffaf-846194bfb008"
      },
      "id": "H2lpDTRi0pOp",
      "execution_count": 5,
      "outputs": [
        {
          "output_type": "stream",
          "name": "stdout",
          "text": [
            "Drive already mounted at /content/gdrive; to attempt to forcibly remount, call drive.mount(\"/content/gdrive\", force_remount=True).\n"
          ]
        }
      ]
    },
    {
      "cell_type": "markdown",
      "id": "01d8255b",
      "metadata": {
        "id": "01d8255b"
      },
      "source": [
        "**1. Loading data**"
      ]
    },
    {
      "cell_type": "code",
      "execution_count": 6,
      "id": "c1af8930",
      "metadata": {
        "colab": {
          "base_uri": "https://localhost:8080/",
          "height": 337
        },
        "id": "c1af8930",
        "outputId": "24f49b01-a4d3-48ab-9ac3-c0746f05b27b"
      },
      "outputs": [
        {
          "output_type": "execute_result",
          "data": {
            "text/plain": [
              "    Make       Model Vehicle Class  Engine Size(L)  Cylinders Transmission  \\\n",
              "0  ACURA         ILX       COMPACT             2.0          4          AS5   \n",
              "1  ACURA         ILX       COMPACT             2.4          4           M6   \n",
              "2  ACURA  ILX HYBRID       COMPACT             1.5          4          AV7   \n",
              "3  ACURA     MDX 4WD   SUV - SMALL             3.5          6          AS6   \n",
              "4  ACURA     RDX AWD   SUV - SMALL             3.5          6          AS6   \n",
              "\n",
              "  Fuel Type  Fuel Consumption City (L/100 km)  \\\n",
              "0         Z                               9.9   \n",
              "1         Z                              11.2   \n",
              "2         Z                               6.0   \n",
              "3         Z                              12.7   \n",
              "4         Z                              12.1   \n",
              "\n",
              "   Fuel Consumption Hwy (L/100 km)  Fuel Consumption Comb (L/100 km)  \\\n",
              "0                              6.7                               8.5   \n",
              "1                              7.7                               9.6   \n",
              "2                              5.8                               5.9   \n",
              "3                              9.1                              11.1   \n",
              "4                              8.7                              10.6   \n",
              "\n",
              "   Fuel Consumption Comb (mpg)  CO2 Emissions(g/km)  \n",
              "0                           33                  196  \n",
              "1                           29                  221  \n",
              "2                           48                  136  \n",
              "3                           25                  255  \n",
              "4                           27                  244  "
            ],
            "text/html": [
              "\n",
              "  <div id=\"df-0be2e6ba-e701-4dd7-885f-52d8711bdcdf\">\n",
              "    <div class=\"colab-df-container\">\n",
              "      <div>\n",
              "<style scoped>\n",
              "    .dataframe tbody tr th:only-of-type {\n",
              "        vertical-align: middle;\n",
              "    }\n",
              "\n",
              "    .dataframe tbody tr th {\n",
              "        vertical-align: top;\n",
              "    }\n",
              "\n",
              "    .dataframe thead th {\n",
              "        text-align: right;\n",
              "    }\n",
              "</style>\n",
              "<table border=\"1\" class=\"dataframe\">\n",
              "  <thead>\n",
              "    <tr style=\"text-align: right;\">\n",
              "      <th></th>\n",
              "      <th>Make</th>\n",
              "      <th>Model</th>\n",
              "      <th>Vehicle Class</th>\n",
              "      <th>Engine Size(L)</th>\n",
              "      <th>Cylinders</th>\n",
              "      <th>Transmission</th>\n",
              "      <th>Fuel Type</th>\n",
              "      <th>Fuel Consumption City (L/100 km)</th>\n",
              "      <th>Fuel Consumption Hwy (L/100 km)</th>\n",
              "      <th>Fuel Consumption Comb (L/100 km)</th>\n",
              "      <th>Fuel Consumption Comb (mpg)</th>\n",
              "      <th>CO2 Emissions(g/km)</th>\n",
              "    </tr>\n",
              "  </thead>\n",
              "  <tbody>\n",
              "    <tr>\n",
              "      <th>0</th>\n",
              "      <td>ACURA</td>\n",
              "      <td>ILX</td>\n",
              "      <td>COMPACT</td>\n",
              "      <td>2.0</td>\n",
              "      <td>4</td>\n",
              "      <td>AS5</td>\n",
              "      <td>Z</td>\n",
              "      <td>9.9</td>\n",
              "      <td>6.7</td>\n",
              "      <td>8.5</td>\n",
              "      <td>33</td>\n",
              "      <td>196</td>\n",
              "    </tr>\n",
              "    <tr>\n",
              "      <th>1</th>\n",
              "      <td>ACURA</td>\n",
              "      <td>ILX</td>\n",
              "      <td>COMPACT</td>\n",
              "      <td>2.4</td>\n",
              "      <td>4</td>\n",
              "      <td>M6</td>\n",
              "      <td>Z</td>\n",
              "      <td>11.2</td>\n",
              "      <td>7.7</td>\n",
              "      <td>9.6</td>\n",
              "      <td>29</td>\n",
              "      <td>221</td>\n",
              "    </tr>\n",
              "    <tr>\n",
              "      <th>2</th>\n",
              "      <td>ACURA</td>\n",
              "      <td>ILX HYBRID</td>\n",
              "      <td>COMPACT</td>\n",
              "      <td>1.5</td>\n",
              "      <td>4</td>\n",
              "      <td>AV7</td>\n",
              "      <td>Z</td>\n",
              "      <td>6.0</td>\n",
              "      <td>5.8</td>\n",
              "      <td>5.9</td>\n",
              "      <td>48</td>\n",
              "      <td>136</td>\n",
              "    </tr>\n",
              "    <tr>\n",
              "      <th>3</th>\n",
              "      <td>ACURA</td>\n",
              "      <td>MDX 4WD</td>\n",
              "      <td>SUV - SMALL</td>\n",
              "      <td>3.5</td>\n",
              "      <td>6</td>\n",
              "      <td>AS6</td>\n",
              "      <td>Z</td>\n",
              "      <td>12.7</td>\n",
              "      <td>9.1</td>\n",
              "      <td>11.1</td>\n",
              "      <td>25</td>\n",
              "      <td>255</td>\n",
              "    </tr>\n",
              "    <tr>\n",
              "      <th>4</th>\n",
              "      <td>ACURA</td>\n",
              "      <td>RDX AWD</td>\n",
              "      <td>SUV - SMALL</td>\n",
              "      <td>3.5</td>\n",
              "      <td>6</td>\n",
              "      <td>AS6</td>\n",
              "      <td>Z</td>\n",
              "      <td>12.1</td>\n",
              "      <td>8.7</td>\n",
              "      <td>10.6</td>\n",
              "      <td>27</td>\n",
              "      <td>244</td>\n",
              "    </tr>\n",
              "  </tbody>\n",
              "</table>\n",
              "</div>\n",
              "      <button class=\"colab-df-convert\" onclick=\"convertToInteractive('df-0be2e6ba-e701-4dd7-885f-52d8711bdcdf')\"\n",
              "              title=\"Convert this dataframe to an interactive table.\"\n",
              "              style=\"display:none;\">\n",
              "        \n",
              "  <svg xmlns=\"http://www.w3.org/2000/svg\" height=\"24px\"viewBox=\"0 0 24 24\"\n",
              "       width=\"24px\">\n",
              "    <path d=\"M0 0h24v24H0V0z\" fill=\"none\"/>\n",
              "    <path d=\"M18.56 5.44l.94 2.06.94-2.06 2.06-.94-2.06-.94-.94-2.06-.94 2.06-2.06.94zm-11 1L8.5 8.5l.94-2.06 2.06-.94-2.06-.94L8.5 2.5l-.94 2.06-2.06.94zm10 10l.94 2.06.94-2.06 2.06-.94-2.06-.94-.94-2.06-.94 2.06-2.06.94z\"/><path d=\"M17.41 7.96l-1.37-1.37c-.4-.4-.92-.59-1.43-.59-.52 0-1.04.2-1.43.59L10.3 9.45l-7.72 7.72c-.78.78-.78 2.05 0 2.83L4 21.41c.39.39.9.59 1.41.59.51 0 1.02-.2 1.41-.59l7.78-7.78 2.81-2.81c.8-.78.8-2.07 0-2.86zM5.41 20L4 18.59l7.72-7.72 1.47 1.35L5.41 20z\"/>\n",
              "  </svg>\n",
              "      </button>\n",
              "      \n",
              "  <style>\n",
              "    .colab-df-container {\n",
              "      display:flex;\n",
              "      flex-wrap:wrap;\n",
              "      gap: 12px;\n",
              "    }\n",
              "\n",
              "    .colab-df-convert {\n",
              "      background-color: #E8F0FE;\n",
              "      border: none;\n",
              "      border-radius: 50%;\n",
              "      cursor: pointer;\n",
              "      display: none;\n",
              "      fill: #1967D2;\n",
              "      height: 32px;\n",
              "      padding: 0 0 0 0;\n",
              "      width: 32px;\n",
              "    }\n",
              "\n",
              "    .colab-df-convert:hover {\n",
              "      background-color: #E2EBFA;\n",
              "      box-shadow: 0px 1px 2px rgba(60, 64, 67, 0.3), 0px 1px 3px 1px rgba(60, 64, 67, 0.15);\n",
              "      fill: #174EA6;\n",
              "    }\n",
              "\n",
              "    [theme=dark] .colab-df-convert {\n",
              "      background-color: #3B4455;\n",
              "      fill: #D2E3FC;\n",
              "    }\n",
              "\n",
              "    [theme=dark] .colab-df-convert:hover {\n",
              "      background-color: #434B5C;\n",
              "      box-shadow: 0px 1px 3px 1px rgba(0, 0, 0, 0.15);\n",
              "      filter: drop-shadow(0px 1px 2px rgba(0, 0, 0, 0.3));\n",
              "      fill: #FFFFFF;\n",
              "    }\n",
              "  </style>\n",
              "\n",
              "      <script>\n",
              "        const buttonEl =\n",
              "          document.querySelector('#df-0be2e6ba-e701-4dd7-885f-52d8711bdcdf button.colab-df-convert');\n",
              "        buttonEl.style.display =\n",
              "          google.colab.kernel.accessAllowed ? 'block' : 'none';\n",
              "\n",
              "        async function convertToInteractive(key) {\n",
              "          const element = document.querySelector('#df-0be2e6ba-e701-4dd7-885f-52d8711bdcdf');\n",
              "          const dataTable =\n",
              "            await google.colab.kernel.invokeFunction('convertToInteractive',\n",
              "                                                     [key], {});\n",
              "          if (!dataTable) return;\n",
              "\n",
              "          const docLinkHtml = 'Like what you see? Visit the ' +\n",
              "            '<a target=\"_blank\" href=https://colab.research.google.com/notebooks/data_table.ipynb>data table notebook</a>'\n",
              "            + ' to learn more about interactive tables.';\n",
              "          element.innerHTML = '';\n",
              "          dataTable['output_type'] = 'display_data';\n",
              "          await google.colab.output.renderOutput(dataTable, element);\n",
              "          const docLink = document.createElement('div');\n",
              "          docLink.innerHTML = docLinkHtml;\n",
              "          element.appendChild(docLink);\n",
              "        }\n",
              "      </script>\n",
              "    </div>\n",
              "  </div>\n",
              "  "
            ]
          },
          "metadata": {},
          "execution_count": 6
        }
      ],
      "source": [
        "import pandas as pd\n",
        "import warnings as w\n",
        "w.filterwarnings('ignore')\n",
        "\n",
        "co2_emissions = pd.read_csv(\"/content/gdrive/MyDrive/DL'/CO2 Emissions.csv\")\n",
        "co2_emissions.head()"
      ]
    },
    {
      "cell_type": "markdown",
      "id": "533cafa3",
      "metadata": {
        "id": "533cafa3"
      },
      "source": [
        "**2. Explore the data**"
      ]
    },
    {
      "cell_type": "code",
      "execution_count": 7,
      "id": "1238ba0c",
      "metadata": {
        "colab": {
          "base_uri": "https://localhost:8080/"
        },
        "id": "1238ba0c",
        "outputId": "1577f82c-b517-4f94-9cae-d7edff8a34b2"
      },
      "outputs": [
        {
          "output_type": "execute_result",
          "data": {
            "text/plain": [
              "(7385, 12)"
            ]
          },
          "metadata": {},
          "execution_count": 7
        }
      ],
      "source": [
        "co2_emissions.shape"
      ]
    },
    {
      "cell_type": "code",
      "execution_count": 8,
      "id": "802a3eb9",
      "metadata": {
        "colab": {
          "base_uri": "https://localhost:8080/"
        },
        "id": "802a3eb9",
        "outputId": "bc360bca-5bb4-4a3b-f19e-b703bc5f1cb3"
      },
      "outputs": [
        {
          "output_type": "stream",
          "name": "stdout",
          "text": [
            "<class 'pandas.core.frame.DataFrame'>\n",
            "RangeIndex: 7385 entries, 0 to 7384\n",
            "Data columns (total 12 columns):\n",
            " #   Column                            Non-Null Count  Dtype  \n",
            "---  ------                            --------------  -----  \n",
            " 0   Make                              7385 non-null   object \n",
            " 1   Model                             7385 non-null   object \n",
            " 2   Vehicle Class                     7385 non-null   object \n",
            " 3   Engine Size(L)                    7385 non-null   float64\n",
            " 4   Cylinders                         7385 non-null   int64  \n",
            " 5   Transmission                      7385 non-null   object \n",
            " 6   Fuel Type                         7385 non-null   object \n",
            " 7   Fuel Consumption City (L/100 km)  7385 non-null   float64\n",
            " 8   Fuel Consumption Hwy (L/100 km)   7385 non-null   float64\n",
            " 9   Fuel Consumption Comb (L/100 km)  7385 non-null   float64\n",
            " 10  Fuel Consumption Comb (mpg)       7385 non-null   int64  \n",
            " 11  CO2 Emissions(g/km)               7385 non-null   int64  \n",
            "dtypes: float64(4), int64(3), object(5)\n",
            "memory usage: 692.5+ KB\n"
          ]
        }
      ],
      "source": [
        "co2_emissions.info()"
      ]
    },
    {
      "cell_type": "code",
      "execution_count": 9,
      "id": "ae807ecc",
      "metadata": {
        "colab": {
          "base_uri": "https://localhost:8080/",
          "height": 362
        },
        "id": "ae807ecc",
        "outputId": "0ebd3022-2f1d-4f64-b0e3-2dcbf4b4c5b7"
      },
      "outputs": [
        {
          "output_type": "execute_result",
          "data": {
            "text/plain": [
              "       Engine Size(L)    Cylinders  Fuel Consumption City (L/100 km)  \\\n",
              "count     7385.000000  7385.000000                       7385.000000   \n",
              "mean         3.160068     5.615030                         12.556534   \n",
              "std          1.354170     1.828307                          3.500274   \n",
              "min          0.900000     3.000000                          4.200000   \n",
              "25%          2.000000     4.000000                         10.100000   \n",
              "50%          3.000000     6.000000                         12.100000   \n",
              "75%          3.700000     6.000000                         14.600000   \n",
              "max          8.400000    16.000000                         30.600000   \n",
              "\n",
              "       Fuel Consumption Hwy (L/100 km)  Fuel Consumption Comb (L/100 km)  \\\n",
              "count                      7385.000000                       7385.000000   \n",
              "mean                          9.041706                         10.975071   \n",
              "std                           2.224456                          2.892506   \n",
              "min                           4.000000                          4.100000   \n",
              "25%                           7.500000                          8.900000   \n",
              "50%                           8.700000                         10.600000   \n",
              "75%                          10.200000                         12.600000   \n",
              "max                          20.600000                         26.100000   \n",
              "\n",
              "       Fuel Consumption Comb (mpg)  CO2 Emissions(g/km)  \n",
              "count                  7385.000000          7385.000000  \n",
              "mean                     27.481652           250.584699  \n",
              "std                       7.231879            58.512679  \n",
              "min                      11.000000            96.000000  \n",
              "25%                      22.000000           208.000000  \n",
              "50%                      27.000000           246.000000  \n",
              "75%                      32.000000           288.000000  \n",
              "max                      69.000000           522.000000  "
            ],
            "text/html": [
              "\n",
              "  <div id=\"df-f26844f5-3301-4dad-9739-2cc3911cbc93\">\n",
              "    <div class=\"colab-df-container\">\n",
              "      <div>\n",
              "<style scoped>\n",
              "    .dataframe tbody tr th:only-of-type {\n",
              "        vertical-align: middle;\n",
              "    }\n",
              "\n",
              "    .dataframe tbody tr th {\n",
              "        vertical-align: top;\n",
              "    }\n",
              "\n",
              "    .dataframe thead th {\n",
              "        text-align: right;\n",
              "    }\n",
              "</style>\n",
              "<table border=\"1\" class=\"dataframe\">\n",
              "  <thead>\n",
              "    <tr style=\"text-align: right;\">\n",
              "      <th></th>\n",
              "      <th>Engine Size(L)</th>\n",
              "      <th>Cylinders</th>\n",
              "      <th>Fuel Consumption City (L/100 km)</th>\n",
              "      <th>Fuel Consumption Hwy (L/100 km)</th>\n",
              "      <th>Fuel Consumption Comb (L/100 km)</th>\n",
              "      <th>Fuel Consumption Comb (mpg)</th>\n",
              "      <th>CO2 Emissions(g/km)</th>\n",
              "    </tr>\n",
              "  </thead>\n",
              "  <tbody>\n",
              "    <tr>\n",
              "      <th>count</th>\n",
              "      <td>7385.000000</td>\n",
              "      <td>7385.000000</td>\n",
              "      <td>7385.000000</td>\n",
              "      <td>7385.000000</td>\n",
              "      <td>7385.000000</td>\n",
              "      <td>7385.000000</td>\n",
              "      <td>7385.000000</td>\n",
              "    </tr>\n",
              "    <tr>\n",
              "      <th>mean</th>\n",
              "      <td>3.160068</td>\n",
              "      <td>5.615030</td>\n",
              "      <td>12.556534</td>\n",
              "      <td>9.041706</td>\n",
              "      <td>10.975071</td>\n",
              "      <td>27.481652</td>\n",
              "      <td>250.584699</td>\n",
              "    </tr>\n",
              "    <tr>\n",
              "      <th>std</th>\n",
              "      <td>1.354170</td>\n",
              "      <td>1.828307</td>\n",
              "      <td>3.500274</td>\n",
              "      <td>2.224456</td>\n",
              "      <td>2.892506</td>\n",
              "      <td>7.231879</td>\n",
              "      <td>58.512679</td>\n",
              "    </tr>\n",
              "    <tr>\n",
              "      <th>min</th>\n",
              "      <td>0.900000</td>\n",
              "      <td>3.000000</td>\n",
              "      <td>4.200000</td>\n",
              "      <td>4.000000</td>\n",
              "      <td>4.100000</td>\n",
              "      <td>11.000000</td>\n",
              "      <td>96.000000</td>\n",
              "    </tr>\n",
              "    <tr>\n",
              "      <th>25%</th>\n",
              "      <td>2.000000</td>\n",
              "      <td>4.000000</td>\n",
              "      <td>10.100000</td>\n",
              "      <td>7.500000</td>\n",
              "      <td>8.900000</td>\n",
              "      <td>22.000000</td>\n",
              "      <td>208.000000</td>\n",
              "    </tr>\n",
              "    <tr>\n",
              "      <th>50%</th>\n",
              "      <td>3.000000</td>\n",
              "      <td>6.000000</td>\n",
              "      <td>12.100000</td>\n",
              "      <td>8.700000</td>\n",
              "      <td>10.600000</td>\n",
              "      <td>27.000000</td>\n",
              "      <td>246.000000</td>\n",
              "    </tr>\n",
              "    <tr>\n",
              "      <th>75%</th>\n",
              "      <td>3.700000</td>\n",
              "      <td>6.000000</td>\n",
              "      <td>14.600000</td>\n",
              "      <td>10.200000</td>\n",
              "      <td>12.600000</td>\n",
              "      <td>32.000000</td>\n",
              "      <td>288.000000</td>\n",
              "    </tr>\n",
              "    <tr>\n",
              "      <th>max</th>\n",
              "      <td>8.400000</td>\n",
              "      <td>16.000000</td>\n",
              "      <td>30.600000</td>\n",
              "      <td>20.600000</td>\n",
              "      <td>26.100000</td>\n",
              "      <td>69.000000</td>\n",
              "      <td>522.000000</td>\n",
              "    </tr>\n",
              "  </tbody>\n",
              "</table>\n",
              "</div>\n",
              "      <button class=\"colab-df-convert\" onclick=\"convertToInteractive('df-f26844f5-3301-4dad-9739-2cc3911cbc93')\"\n",
              "              title=\"Convert this dataframe to an interactive table.\"\n",
              "              style=\"display:none;\">\n",
              "        \n",
              "  <svg xmlns=\"http://www.w3.org/2000/svg\" height=\"24px\"viewBox=\"0 0 24 24\"\n",
              "       width=\"24px\">\n",
              "    <path d=\"M0 0h24v24H0V0z\" fill=\"none\"/>\n",
              "    <path d=\"M18.56 5.44l.94 2.06.94-2.06 2.06-.94-2.06-.94-.94-2.06-.94 2.06-2.06.94zm-11 1L8.5 8.5l.94-2.06 2.06-.94-2.06-.94L8.5 2.5l-.94 2.06-2.06.94zm10 10l.94 2.06.94-2.06 2.06-.94-2.06-.94-.94-2.06-.94 2.06-2.06.94z\"/><path d=\"M17.41 7.96l-1.37-1.37c-.4-.4-.92-.59-1.43-.59-.52 0-1.04.2-1.43.59L10.3 9.45l-7.72 7.72c-.78.78-.78 2.05 0 2.83L4 21.41c.39.39.9.59 1.41.59.51 0 1.02-.2 1.41-.59l7.78-7.78 2.81-2.81c.8-.78.8-2.07 0-2.86zM5.41 20L4 18.59l7.72-7.72 1.47 1.35L5.41 20z\"/>\n",
              "  </svg>\n",
              "      </button>\n",
              "      \n",
              "  <style>\n",
              "    .colab-df-container {\n",
              "      display:flex;\n",
              "      flex-wrap:wrap;\n",
              "      gap: 12px;\n",
              "    }\n",
              "\n",
              "    .colab-df-convert {\n",
              "      background-color: #E8F0FE;\n",
              "      border: none;\n",
              "      border-radius: 50%;\n",
              "      cursor: pointer;\n",
              "      display: none;\n",
              "      fill: #1967D2;\n",
              "      height: 32px;\n",
              "      padding: 0 0 0 0;\n",
              "      width: 32px;\n",
              "    }\n",
              "\n",
              "    .colab-df-convert:hover {\n",
              "      background-color: #E2EBFA;\n",
              "      box-shadow: 0px 1px 2px rgba(60, 64, 67, 0.3), 0px 1px 3px 1px rgba(60, 64, 67, 0.15);\n",
              "      fill: #174EA6;\n",
              "    }\n",
              "\n",
              "    [theme=dark] .colab-df-convert {\n",
              "      background-color: #3B4455;\n",
              "      fill: #D2E3FC;\n",
              "    }\n",
              "\n",
              "    [theme=dark] .colab-df-convert:hover {\n",
              "      background-color: #434B5C;\n",
              "      box-shadow: 0px 1px 3px 1px rgba(0, 0, 0, 0.15);\n",
              "      filter: drop-shadow(0px 1px 2px rgba(0, 0, 0, 0.3));\n",
              "      fill: #FFFFFF;\n",
              "    }\n",
              "  </style>\n",
              "\n",
              "      <script>\n",
              "        const buttonEl =\n",
              "          document.querySelector('#df-f26844f5-3301-4dad-9739-2cc3911cbc93 button.colab-df-convert');\n",
              "        buttonEl.style.display =\n",
              "          google.colab.kernel.accessAllowed ? 'block' : 'none';\n",
              "\n",
              "        async function convertToInteractive(key) {\n",
              "          const element = document.querySelector('#df-f26844f5-3301-4dad-9739-2cc3911cbc93');\n",
              "          const dataTable =\n",
              "            await google.colab.kernel.invokeFunction('convertToInteractive',\n",
              "                                                     [key], {});\n",
              "          if (!dataTable) return;\n",
              "\n",
              "          const docLinkHtml = 'Like what you see? Visit the ' +\n",
              "            '<a target=\"_blank\" href=https://colab.research.google.com/notebooks/data_table.ipynb>data table notebook</a>'\n",
              "            + ' to learn more about interactive tables.';\n",
              "          element.innerHTML = '';\n",
              "          dataTable['output_type'] = 'display_data';\n",
              "          await google.colab.output.renderOutput(dataTable, element);\n",
              "          const docLink = document.createElement('div');\n",
              "          docLink.innerHTML = docLinkHtml;\n",
              "          element.appendChild(docLink);\n",
              "        }\n",
              "      </script>\n",
              "    </div>\n",
              "  </div>\n",
              "  "
            ]
          },
          "metadata": {},
          "execution_count": 9
        }
      ],
      "source": [
        "co2_emissions.describe()"
      ]
    },
    {
      "cell_type": "code",
      "execution_count": 10,
      "id": "818cbcd9",
      "metadata": {
        "colab": {
          "base_uri": "https://localhost:8080/"
        },
        "id": "818cbcd9",
        "outputId": "d30402ba-07ab-4fad-f21b-a25d22841c38"
      },
      "outputs": [
        {
          "output_type": "execute_result",
          "data": {
            "text/plain": [
              "Index(['Make', 'Model', 'Vehicle Class', 'Engine Size(L)', 'Cylinders',\n",
              "       'Transmission', 'Fuel Type', 'Fuel Consumption City (L/100 km)',\n",
              "       'Fuel Consumption Hwy (L/100 km)', 'Fuel Consumption Comb (L/100 km)',\n",
              "       'Fuel Consumption Comb (mpg)', 'CO2 Emissions(g/km)'],\n",
              "      dtype='object')"
            ]
          },
          "metadata": {},
          "execution_count": 10
        }
      ],
      "source": [
        "co2_emissions.columns"
      ]
    },
    {
      "cell_type": "code",
      "execution_count": 11,
      "id": "cb5e1d9f",
      "metadata": {
        "colab": {
          "base_uri": "https://localhost:8080/"
        },
        "id": "cb5e1d9f",
        "outputId": "df006a5e-54af-499f-b5d0-229391692373"
      },
      "outputs": [
        {
          "output_type": "execute_result",
          "data": {
            "text/plain": [
              "Make                                  42\n",
              "Model                               2053\n",
              "Vehicle Class                         16\n",
              "Engine Size(L)                        51\n",
              "Cylinders                              8\n",
              "Transmission                          27\n",
              "Fuel Type                              5\n",
              "Fuel Consumption City (L/100 km)     211\n",
              "Fuel Consumption Hwy (L/100 km)      143\n",
              "Fuel Consumption Comb (L/100 km)     181\n",
              "Fuel Consumption Comb (mpg)           54\n",
              "CO2 Emissions(g/km)                  331\n",
              "dtype: int64"
            ]
          },
          "metadata": {},
          "execution_count": 11
        }
      ],
      "source": [
        "co2_emissions.nunique()"
      ]
    },
    {
      "cell_type": "markdown",
      "id": "0255043a",
      "metadata": {
        "id": "0255043a"
      },
      "source": [
        "**3. Divide the data into the training and test datasets**"
      ]
    },
    {
      "cell_type": "code",
      "execution_count": 12,
      "id": "49a86935",
      "metadata": {
        "id": "49a86935"
      },
      "outputs": [],
      "source": [
        "X = co2_emissions[['Engine Size(L)', 'Cylinders', 'Fuel Consumption City (L/100 km)', 'Fuel Consumption Hwy (L/100 km)',\n",
        "                   'Fuel Consumption Comb (L/100 km)', 'Fuel Consumption Comb (mpg)']]\n",
        "y = co2_emissions['CO2 Emissions(g/km)']"
      ]
    },
    {
      "cell_type": "code",
      "execution_count": 13,
      "id": "d3a18c18",
      "metadata": {
        "id": "d3a18c18"
      },
      "outputs": [],
      "source": [
        "from sklearn.model_selection import train_test_split"
      ]
    },
    {
      "cell_type": "code",
      "execution_count": 14,
      "id": "d50c7238",
      "metadata": {
        "id": "d50c7238"
      },
      "outputs": [],
      "source": [
        "X_train, X_test, y_train, y_test = train_test_split(X, y, test_size=0.2)"
      ]
    },
    {
      "cell_type": "code",
      "execution_count": 15,
      "id": "e72d585b",
      "metadata": {
        "colab": {
          "base_uri": "https://localhost:8080/"
        },
        "id": "e72d585b",
        "outputId": "b7d10968-9b53-477f-b3b9-ac0c0dc3a961"
      },
      "outputs": [
        {
          "output_type": "execute_result",
          "data": {
            "text/plain": [
              "(5908, 6)"
            ]
          },
          "metadata": {},
          "execution_count": 15
        }
      ],
      "source": [
        "X_train.shape"
      ]
    },
    {
      "cell_type": "code",
      "execution_count": 16,
      "id": "c57170d4",
      "metadata": {
        "colab": {
          "base_uri": "https://localhost:8080/"
        },
        "id": "c57170d4",
        "outputId": "5c7751b5-c2ae-42fc-bcdc-fbb30c763172"
      },
      "outputs": [
        {
          "output_type": "execute_result",
          "data": {
            "text/plain": [
              "(1477, 6)"
            ]
          },
          "metadata": {},
          "execution_count": 16
        }
      ],
      "source": [
        "X_test.shape"
      ]
    },
    {
      "cell_type": "markdown",
      "id": "02ed0ff8",
      "metadata": {
        "id": "02ed0ff8"
      },
      "source": [
        "**4. Scaling data**"
      ]
    },
    {
      "cell_type": "code",
      "execution_count": 17,
      "id": "8a95e25e",
      "metadata": {
        "id": "8a95e25e"
      },
      "outputs": [],
      "source": [
        "from sklearn.preprocessing import StandardScaler\n",
        "scaler = StandardScaler()"
      ]
    },
    {
      "cell_type": "code",
      "execution_count": 18,
      "id": "75c65f14",
      "metadata": {
        "id": "75c65f14"
      },
      "outputs": [],
      "source": [
        "X_train_scaled = scaler.fit_transform(X_train)\n",
        "X_test_scaled = scaler.transform(X_test)"
      ]
    },
    {
      "cell_type": "markdown",
      "id": "bdd9b71a",
      "metadata": {
        "id": "bdd9b71a"
      },
      "source": [
        "**5. Implement the DL model**"
      ]
    },
    {
      "cell_type": "code",
      "execution_count": 19,
      "id": "8f7a03af",
      "metadata": {
        "id": "8f7a03af"
      },
      "outputs": [],
      "source": [
        "from tensorflow.keras import Sequential\n",
        "from tensorflow.keras.layers import Dense\n",
        "from tensorflow.keras.layers import Flatten\n",
        "from tensorflow.keras.optimizers import Adam"
      ]
    },
    {
      "cell_type": "code",
      "execution_count": 28,
      "id": "666df759",
      "metadata": {
        "id": "666df759"
      },
      "outputs": [],
      "source": [
        "def build_model(hp):\n",
        "    model = Sequential()\n",
        "    model.add(Flatten(input_shape=(X_train_scaled.shape[1],)))\n",
        "    model.add(Dense(units=hp.Int('units',\n",
        "                                min_value=100,\n",
        "                                max_value=500,\n",
        "                                step=100)))\n",
        "    model.add(Dense(1, activation='relu'))\n",
        "\n",
        "    model.compile(Adam(hp.Choice('learning_rate', [1e-2, 1e-3, 1e-4])), loss='mean_squared_error')\n",
        "    \n",
        "    return model"
      ]
    },
    {
      "cell_type": "markdown",
      "id": "ddb0b9d2",
      "metadata": {
        "id": "ddb0b9d2"
      },
      "source": [
        "**6. Tune the hyper-parameters**"
      ]
    },
    {
      "cell_type": "code",
      "source": [
        "pip install keras-tuner --upgrade"
      ],
      "metadata": {
        "colab": {
          "base_uri": "https://localhost:8080/"
        },
        "id": "Hy8rL_e21yYq",
        "outputId": "0372058e-d7d9-486c-efb8-fdbf3d9bf67b"
      },
      "id": "Hy8rL_e21yYq",
      "execution_count": 29,
      "outputs": [
        {
          "output_type": "stream",
          "name": "stdout",
          "text": [
            "Looking in indexes: https://pypi.org/simple, https://us-python.pkg.dev/colab-wheels/public/simple/\n",
            "Requirement already satisfied: keras-tuner in /usr/local/lib/python3.9/dist-packages (1.3.5)\n",
            "Requirement already satisfied: kt-legacy in /usr/local/lib/python3.9/dist-packages (from keras-tuner) (1.0.5)\n",
            "Requirement already satisfied: packaging in /usr/local/lib/python3.9/dist-packages (from keras-tuner) (23.0)\n",
            "Requirement already satisfied: requests in /usr/local/lib/python3.9/dist-packages (from keras-tuner) (2.27.1)\n",
            "Requirement already satisfied: charset-normalizer~=2.0.0 in /usr/local/lib/python3.9/dist-packages (from requests->keras-tuner) (2.0.12)\n",
            "Requirement already satisfied: certifi>=2017.4.17 in /usr/local/lib/python3.9/dist-packages (from requests->keras-tuner) (2022.12.7)\n",
            "Requirement already satisfied: idna<4,>=2.5 in /usr/local/lib/python3.9/dist-packages (from requests->keras-tuner) (3.4)\n",
            "Requirement already satisfied: urllib3<1.27,>=1.21.1 in /usr/local/lib/python3.9/dist-packages (from requests->keras-tuner) (1.26.15)\n"
          ]
        }
      ]
    },
    {
      "cell_type": "code",
      "execution_count": 30,
      "id": "31007ceb",
      "metadata": {
        "id": "31007ceb"
      },
      "outputs": [],
      "source": [
        "from kerastuner.tuners import RandomSearch"
      ]
    },
    {
      "cell_type": "code",
      "execution_count": 31,
      "id": "ab1064dc",
      "metadata": {
        "id": "ab1064dc"
      },
      "outputs": [],
      "source": [
        "tuner = RandomSearch(\n",
        "    build_model,\n",
        "    objective='val_loss',\n",
        "    max_trials=5)"
      ]
    },
    {
      "cell_type": "code",
      "execution_count": 32,
      "id": "83549e8c",
      "metadata": {
        "colab": {
          "base_uri": "https://localhost:8080/"
        },
        "id": "83549e8c",
        "outputId": "b7b5abfe-0777-4c2c-a5ef-584bc4b820a1"
      },
      "outputs": [
        {
          "output_type": "stream",
          "name": "stdout",
          "text": [
            "Trial 5 Complete [00h 00m 04s]\n",
            "val_loss: 356.6967468261719\n",
            "\n",
            "Best val_loss So Far: 355.62957763671875\n",
            "Total elapsed time: 00h 00m 17s\n"
          ]
        }
      ],
      "source": [
        "tuner.search(X_train_scaled, y_train, epochs=5, validation_split=0.3)\n",
        "best_model = tuner.get_best_models()[0]"
      ]
    },
    {
      "cell_type": "code",
      "execution_count": 33,
      "id": "16fc2df9",
      "metadata": {
        "colab": {
          "base_uri": "https://localhost:8080/"
        },
        "id": "16fc2df9",
        "outputId": "4d257e7d-0bbd-4ab7-cc47-d3bfbf02f8cc"
      },
      "outputs": [
        {
          "output_type": "stream",
          "name": "stdout",
          "text": [
            "Results summary\n",
            "Results in ./untitled_project\n",
            "Showing 10 best trials\n",
            "Objective(name=\"val_loss\", direction=\"min\")\n",
            "\n",
            "Trial 3 summary\n",
            "Hyperparameters:\n",
            "units: 200\n",
            "learning_rate: 0.01\n",
            "Score: 355.62957763671875\n",
            "\n",
            "Trial 4 summary\n",
            "Hyperparameters:\n",
            "units: 400\n",
            "learning_rate: 0.01\n",
            "Score: 356.6967468261719\n",
            "\n",
            "Trial 0 summary\n",
            "Hyperparameters:\n",
            "units: 400\n",
            "learning_rate: 0.001\n",
            "Score: 1423.3553466796875\n",
            "\n",
            "Trial 2 summary\n",
            "Hyperparameters:\n",
            "units: 500\n",
            "learning_rate: 0.001\n",
            "Score: 2974.307861328125\n",
            "\n",
            "Trial 1 summary\n",
            "Hyperparameters:\n",
            "units: 200\n",
            "learning_rate: 0.001\n",
            "Score: 32843.1875\n"
          ]
        }
      ],
      "source": [
        "tuner.results_summary()"
      ]
    },
    {
      "cell_type": "markdown",
      "source": [
        "**7. Fitting the model to the training data**"
      ],
      "metadata": {
        "id": "zZzTSGLX3wfw"
      },
      "id": "zZzTSGLX3wfw"
    },
    {
      "cell_type": "code",
      "source": [
        "best_model.fit(X_train_scaled, y_train)"
      ],
      "metadata": {
        "colab": {
          "base_uri": "https://localhost:8080/"
        },
        "id": "-TKl6cHL3x-w",
        "outputId": "7de47ed5-1ca4-46a1-aad6-2c5dc65057a8"
      },
      "id": "-TKl6cHL3x-w",
      "execution_count": 42,
      "outputs": [
        {
          "output_type": "stream",
          "name": "stdout",
          "text": [
            "185/185 [==============================] - 1s 4ms/step - loss: 354.0424\n"
          ]
        },
        {
          "output_type": "execute_result",
          "data": {
            "text/plain": [
              "<keras.callbacks.History at 0x7fa741374790>"
            ]
          },
          "metadata": {},
          "execution_count": 42
        }
      ]
    },
    {
      "cell_type": "markdown",
      "source": [
        "**8. Evaluate the quality of the trained model using test dataset**"
      ],
      "metadata": {
        "id": "c9bJXOJ84TKX"
      },
      "id": "c9bJXOJ84TKX"
    },
    {
      "cell_type": "code",
      "source": [
        "best_model.evaluate(X_test_scaled, y_test)"
      ],
      "metadata": {
        "colab": {
          "base_uri": "https://localhost:8080/"
        },
        "id": "A90qSdt33PpA",
        "outputId": "65e93340-07ed-4b61-d326-7d76897e8631"
      },
      "id": "A90qSdt33PpA",
      "execution_count": 44,
      "outputs": [
        {
          "output_type": "stream",
          "name": "stdout",
          "text": [
            "47/47 [==============================] - 0s 1ms/step - loss: 334.7941\n"
          ]
        },
        {
          "output_type": "execute_result",
          "data": {
            "text/plain": [
              "334.79412841796875"
            ]
          },
          "metadata": {},
          "execution_count": 44
        }
      ]
    },
    {
      "cell_type": "markdown",
      "id": "77cb26ad",
      "metadata": {
        "id": "77cb26ad"
      },
      "source": [
        "**9. Make prediction using the trained model**"
      ]
    },
    {
      "cell_type": "code",
      "execution_count": 45,
      "id": "6ac828b7",
      "metadata": {
        "colab": {
          "base_uri": "https://localhost:8080/"
        },
        "id": "6ac828b7",
        "outputId": "dd7ee7cf-4bd4-4927-bcaf-162e1b2ba47e"
      },
      "outputs": [
        {
          "output_type": "stream",
          "name": "stdout",
          "text": [
            "1/1 [==============================] - 0s 122ms/step\n"
          ]
        },
        {
          "output_type": "execute_result",
          "data": {
            "text/plain": [
              "array([[216.50584]], dtype=float32)"
            ]
          },
          "metadata": {},
          "execution_count": 45
        }
      ],
      "source": [
        "best_model.predict([[5.6, 8, 17.5, 12, 15, 19]])"
      ]
    }
  ],
  "metadata": {
    "kernelspec": {
      "display_name": "Python 3 (ipykernel)",
      "language": "python",
      "name": "python3"
    },
    "language_info": {
      "codemirror_mode": {
        "name": "ipython",
        "version": 3
      },
      "file_extension": ".py",
      "mimetype": "text/x-python",
      "name": "python",
      "nbconvert_exporter": "python",
      "pygments_lexer": "ipython3",
      "version": "3.9.16"
    },
    "colab": {
      "provenance": []
    }
  },
  "nbformat": 4,
  "nbformat_minor": 5
}