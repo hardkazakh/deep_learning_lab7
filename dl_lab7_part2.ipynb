{
  "nbformat": 4,
  "nbformat_minor": 0,
  "metadata": {
    "colab": {
      "provenance": [],
      "gpuType": "T4"
    },
    "kernelspec": {
      "name": "python3",
      "display_name": "Python 3"
    },
    "language_info": {
      "name": "python"
    },
    "accelerator": "GPU",
    "gpuClass": "standard"
  },
  "cells": [
    {
      "cell_type": "markdown",
      "source": [
        "<center><h1> Assignment 7"
      ],
      "metadata": {
        "id": "o2pMlWM26ZR3"
      }
    },
    {
      "cell_type": "markdown",
      "source": [
        "1. Load your dataset from the “internet_connection_data.csv” csv file.\n",
        "2. Explore your dataset and list the name of the columns.\n",
        "3. Explore your dataset and check if there is any column with missing values.\n",
        "4. Select your input variables and ourput variable (hint: output colum is the one you want to \n",
        "predict. In this case it is the last column which shows the type of network attack).\n",
        "5. Split your dataset as %80 training and %20 testing.\n",
        "6. Scale your training data and testing data inputs.\n",
        "7. Implement your neural network object using the ski-learn python library(you can design a \n",
        "network with one or 2 or 3 layers with any amount of the neurons).\n",
        "8. Draw your network architecture.\n",
        "9. Train (fit) your network.\n",
        "10. Report the accuracy of the neural network for the test datasets.\n",
        "11. Solve the same task using the Keras library and report your accuracy of Keras model \n",
        "implementation"
      ],
      "metadata": {
        "id": "LvTyq7J86b8G"
      }
    },
    {
      "cell_type": "code",
      "source": [
        "from google.colab import drive"
      ],
      "metadata": {
        "id": "xAum8oCd6lE5"
      },
      "execution_count": 1,
      "outputs": []
    },
    {
      "cell_type": "code",
      "source": [
        "drive.mount('/content/gdrive')"
      ],
      "metadata": {
        "colab": {
          "base_uri": "https://localhost:8080/"
        },
        "id": "FixH76DA6wRA",
        "outputId": "baa666bd-2a14-4ccd-dba0-5422e0e879eb"
      },
      "execution_count": 2,
      "outputs": [
        {
          "output_type": "stream",
          "name": "stdout",
          "text": [
            "Mounted at /content/gdrive\n"
          ]
        }
      ]
    },
    {
      "cell_type": "markdown",
      "source": [
        "**1. Loading data**"
      ],
      "metadata": {
        "id": "sqOJJc1o65Ae"
      }
    },
    {
      "cell_type": "code",
      "source": [
        "import pandas as pd\n",
        "import warnings as w\n",
        "w.filterwarnings('ignore')\n",
        "\n",
        "connection_data = pd.read_csv(\"/content/gdrive/MyDrive/DL'/internet_connection_data.csv\")\n",
        "connection_data.head()"
      ],
      "metadata": {
        "colab": {
          "base_uri": "https://localhost:8080/",
          "height": 300
        },
        "id": "iHAFBxHw65ee",
        "outputId": "64e43161-e089-4ba8-bf0f-28d0bac1eced"
      },
      "execution_count": 3,
      "outputs": [
        {
          "output_type": "execute_result",
          "data": {
            "text/plain": [
              "   Memory_PssTotal  Memory_PssClean  Memory_SharedDirty  Memory_PrivateDirty  \\\n",
              "0            46430             5156               11304                34336   \n",
              "1            35437             3064               12396                25632   \n",
              "2            56846             2340               10768                47296   \n",
              "3            30576             1152               12664                24312   \n",
              "4           148452            19332               10808               122364   \n",
              "\n",
              "   Memory_SharedClean  Memory_PrivateClean  Memory_HeapSize  Memory_HeapAlloc  \\\n",
              "0               86444                 5176            15429             11470   \n",
              "1               91220                 3080            13074             10631   \n",
              "2               95940                 2592            16154             11361   \n",
              "3               78192                 1164             7913              4720   \n",
              "4               87080                20104            44830             34063   \n",
              "\n",
              "   Memory_HeapFree  Memory_Views  ...  API_Base64_android.util.Base64_decode  \\\n",
              "0             3958            61  ...                                      0   \n",
              "1             2442             7  ...                                     36   \n",
              "2             4792           174  ...                                      0   \n",
              "3             3192             0  ...                                      0   \n",
              "4            10766           137  ...                                      0   \n",
              "\n",
              "   API_SystemManager_android.app.ApplicationPackageManager_setComponentEnabledSetting  \\\n",
              "0                                                  0                                    \n",
              "1                                                  0                                    \n",
              "2                                                  0                                    \n",
              "3                                                  0                                    \n",
              "4                                                  0                                    \n",
              "\n",
              "   API_SystemManager_android.content.BroadcastReceiver_abortBroadcast  \\\n",
              "0                                                  0                    \n",
              "1                                                  0                    \n",
              "2                                                  0                    \n",
              "3                                                  0                    \n",
              "4                                                  0                    \n",
              "\n",
              "   API_SMS_android.telephony.SmsManager_sendTextMessage  \\\n",
              "0                                                  0      \n",
              "1                                                  0      \n",
              "2                                                  0      \n",
              "3                                                  0      \n",
              "4                                                  0      \n",
              "\n",
              "   API_DeviceData_android.content.ContentResolver_registerContentObserver  \\\n",
              "0                                                  0                        \n",
              "1                                                  0                        \n",
              "2                                                  0                        \n",
              "3                                                  0                        \n",
              "4                                                 20                        \n",
              "\n",
              "   Network_TotalReceivedBytes  Network_TotalReceivedPackets  \\\n",
              "0                    12519646                          9033   \n",
              "1                           0                             0   \n",
              "2                        6601                            59   \n",
              "3                           0                             0   \n",
              "4                     2132046                          2364   \n",
              "\n",
              "   Network_TotalTransmittedBytes  Network_TotalTransmittedPackets  Category  \n",
              "0                         142613                             3551    Adware  \n",
              "1                              0                                0    Adware  \n",
              "2                           9602                               71    Adware  \n",
              "3                              0                                0    Adware  \n",
              "4                         220625                             1938    Adware  \n",
              "\n",
              "[5 rows x 46 columns]"
            ],
            "text/html": [
              "\n",
              "  <div id=\"df-bce1f252-be1b-430e-b6bd-ea87dfcbcc4d\">\n",
              "    <div class=\"colab-df-container\">\n",
              "      <div>\n",
              "<style scoped>\n",
              "    .dataframe tbody tr th:only-of-type {\n",
              "        vertical-align: middle;\n",
              "    }\n",
              "\n",
              "    .dataframe tbody tr th {\n",
              "        vertical-align: top;\n",
              "    }\n",
              "\n",
              "    .dataframe thead th {\n",
              "        text-align: right;\n",
              "    }\n",
              "</style>\n",
              "<table border=\"1\" class=\"dataframe\">\n",
              "  <thead>\n",
              "    <tr style=\"text-align: right;\">\n",
              "      <th></th>\n",
              "      <th>Memory_PssTotal</th>\n",
              "      <th>Memory_PssClean</th>\n",
              "      <th>Memory_SharedDirty</th>\n",
              "      <th>Memory_PrivateDirty</th>\n",
              "      <th>Memory_SharedClean</th>\n",
              "      <th>Memory_PrivateClean</th>\n",
              "      <th>Memory_HeapSize</th>\n",
              "      <th>Memory_HeapAlloc</th>\n",
              "      <th>Memory_HeapFree</th>\n",
              "      <th>Memory_Views</th>\n",
              "      <th>...</th>\n",
              "      <th>API_Base64_android.util.Base64_decode</th>\n",
              "      <th>API_SystemManager_android.app.ApplicationPackageManager_setComponentEnabledSetting</th>\n",
              "      <th>API_SystemManager_android.content.BroadcastReceiver_abortBroadcast</th>\n",
              "      <th>API_SMS_android.telephony.SmsManager_sendTextMessage</th>\n",
              "      <th>API_DeviceData_android.content.ContentResolver_registerContentObserver</th>\n",
              "      <th>Network_TotalReceivedBytes</th>\n",
              "      <th>Network_TotalReceivedPackets</th>\n",
              "      <th>Network_TotalTransmittedBytes</th>\n",
              "      <th>Network_TotalTransmittedPackets</th>\n",
              "      <th>Category</th>\n",
              "    </tr>\n",
              "  </thead>\n",
              "  <tbody>\n",
              "    <tr>\n",
              "      <th>0</th>\n",
              "      <td>46430</td>\n",
              "      <td>5156</td>\n",
              "      <td>11304</td>\n",
              "      <td>34336</td>\n",
              "      <td>86444</td>\n",
              "      <td>5176</td>\n",
              "      <td>15429</td>\n",
              "      <td>11470</td>\n",
              "      <td>3958</td>\n",
              "      <td>61</td>\n",
              "      <td>...</td>\n",
              "      <td>0</td>\n",
              "      <td>0</td>\n",
              "      <td>0</td>\n",
              "      <td>0</td>\n",
              "      <td>0</td>\n",
              "      <td>12519646</td>\n",
              "      <td>9033</td>\n",
              "      <td>142613</td>\n",
              "      <td>3551</td>\n",
              "      <td>Adware</td>\n",
              "    </tr>\n",
              "    <tr>\n",
              "      <th>1</th>\n",
              "      <td>35437</td>\n",
              "      <td>3064</td>\n",
              "      <td>12396</td>\n",
              "      <td>25632</td>\n",
              "      <td>91220</td>\n",
              "      <td>3080</td>\n",
              "      <td>13074</td>\n",
              "      <td>10631</td>\n",
              "      <td>2442</td>\n",
              "      <td>7</td>\n",
              "      <td>...</td>\n",
              "      <td>36</td>\n",
              "      <td>0</td>\n",
              "      <td>0</td>\n",
              "      <td>0</td>\n",
              "      <td>0</td>\n",
              "      <td>0</td>\n",
              "      <td>0</td>\n",
              "      <td>0</td>\n",
              "      <td>0</td>\n",
              "      <td>Adware</td>\n",
              "    </tr>\n",
              "    <tr>\n",
              "      <th>2</th>\n",
              "      <td>56846</td>\n",
              "      <td>2340</td>\n",
              "      <td>10768</td>\n",
              "      <td>47296</td>\n",
              "      <td>95940</td>\n",
              "      <td>2592</td>\n",
              "      <td>16154</td>\n",
              "      <td>11361</td>\n",
              "      <td>4792</td>\n",
              "      <td>174</td>\n",
              "      <td>...</td>\n",
              "      <td>0</td>\n",
              "      <td>0</td>\n",
              "      <td>0</td>\n",
              "      <td>0</td>\n",
              "      <td>0</td>\n",
              "      <td>6601</td>\n",
              "      <td>59</td>\n",
              "      <td>9602</td>\n",
              "      <td>71</td>\n",
              "      <td>Adware</td>\n",
              "    </tr>\n",
              "    <tr>\n",
              "      <th>3</th>\n",
              "      <td>30576</td>\n",
              "      <td>1152</td>\n",
              "      <td>12664</td>\n",
              "      <td>24312</td>\n",
              "      <td>78192</td>\n",
              "      <td>1164</td>\n",
              "      <td>7913</td>\n",
              "      <td>4720</td>\n",
              "      <td>3192</td>\n",
              "      <td>0</td>\n",
              "      <td>...</td>\n",
              "      <td>0</td>\n",
              "      <td>0</td>\n",
              "      <td>0</td>\n",
              "      <td>0</td>\n",
              "      <td>0</td>\n",
              "      <td>0</td>\n",
              "      <td>0</td>\n",
              "      <td>0</td>\n",
              "      <td>0</td>\n",
              "      <td>Adware</td>\n",
              "    </tr>\n",
              "    <tr>\n",
              "      <th>4</th>\n",
              "      <td>148452</td>\n",
              "      <td>19332</td>\n",
              "      <td>10808</td>\n",
              "      <td>122364</td>\n",
              "      <td>87080</td>\n",
              "      <td>20104</td>\n",
              "      <td>44830</td>\n",
              "      <td>34063</td>\n",
              "      <td>10766</td>\n",
              "      <td>137</td>\n",
              "      <td>...</td>\n",
              "      <td>0</td>\n",
              "      <td>0</td>\n",
              "      <td>0</td>\n",
              "      <td>0</td>\n",
              "      <td>20</td>\n",
              "      <td>2132046</td>\n",
              "      <td>2364</td>\n",
              "      <td>220625</td>\n",
              "      <td>1938</td>\n",
              "      <td>Adware</td>\n",
              "    </tr>\n",
              "  </tbody>\n",
              "</table>\n",
              "<p>5 rows × 46 columns</p>\n",
              "</div>\n",
              "      <button class=\"colab-df-convert\" onclick=\"convertToInteractive('df-bce1f252-be1b-430e-b6bd-ea87dfcbcc4d')\"\n",
              "              title=\"Convert this dataframe to an interactive table.\"\n",
              "              style=\"display:none;\">\n",
              "        \n",
              "  <svg xmlns=\"http://www.w3.org/2000/svg\" height=\"24px\"viewBox=\"0 0 24 24\"\n",
              "       width=\"24px\">\n",
              "    <path d=\"M0 0h24v24H0V0z\" fill=\"none\"/>\n",
              "    <path d=\"M18.56 5.44l.94 2.06.94-2.06 2.06-.94-2.06-.94-.94-2.06-.94 2.06-2.06.94zm-11 1L8.5 8.5l.94-2.06 2.06-.94-2.06-.94L8.5 2.5l-.94 2.06-2.06.94zm10 10l.94 2.06.94-2.06 2.06-.94-2.06-.94-.94-2.06-.94 2.06-2.06.94z\"/><path d=\"M17.41 7.96l-1.37-1.37c-.4-.4-.92-.59-1.43-.59-.52 0-1.04.2-1.43.59L10.3 9.45l-7.72 7.72c-.78.78-.78 2.05 0 2.83L4 21.41c.39.39.9.59 1.41.59.51 0 1.02-.2 1.41-.59l7.78-7.78 2.81-2.81c.8-.78.8-2.07 0-2.86zM5.41 20L4 18.59l7.72-7.72 1.47 1.35L5.41 20z\"/>\n",
              "  </svg>\n",
              "      </button>\n",
              "      \n",
              "  <style>\n",
              "    .colab-df-container {\n",
              "      display:flex;\n",
              "      flex-wrap:wrap;\n",
              "      gap: 12px;\n",
              "    }\n",
              "\n",
              "    .colab-df-convert {\n",
              "      background-color: #E8F0FE;\n",
              "      border: none;\n",
              "      border-radius: 50%;\n",
              "      cursor: pointer;\n",
              "      display: none;\n",
              "      fill: #1967D2;\n",
              "      height: 32px;\n",
              "      padding: 0 0 0 0;\n",
              "      width: 32px;\n",
              "    }\n",
              "\n",
              "    .colab-df-convert:hover {\n",
              "      background-color: #E2EBFA;\n",
              "      box-shadow: 0px 1px 2px rgba(60, 64, 67, 0.3), 0px 1px 3px 1px rgba(60, 64, 67, 0.15);\n",
              "      fill: #174EA6;\n",
              "    }\n",
              "\n",
              "    [theme=dark] .colab-df-convert {\n",
              "      background-color: #3B4455;\n",
              "      fill: #D2E3FC;\n",
              "    }\n",
              "\n",
              "    [theme=dark] .colab-df-convert:hover {\n",
              "      background-color: #434B5C;\n",
              "      box-shadow: 0px 1px 3px 1px rgba(0, 0, 0, 0.15);\n",
              "      filter: drop-shadow(0px 1px 2px rgba(0, 0, 0, 0.3));\n",
              "      fill: #FFFFFF;\n",
              "    }\n",
              "  </style>\n",
              "\n",
              "      <script>\n",
              "        const buttonEl =\n",
              "          document.querySelector('#df-bce1f252-be1b-430e-b6bd-ea87dfcbcc4d button.colab-df-convert');\n",
              "        buttonEl.style.display =\n",
              "          google.colab.kernel.accessAllowed ? 'block' : 'none';\n",
              "\n",
              "        async function convertToInteractive(key) {\n",
              "          const element = document.querySelector('#df-bce1f252-be1b-430e-b6bd-ea87dfcbcc4d');\n",
              "          const dataTable =\n",
              "            await google.colab.kernel.invokeFunction('convertToInteractive',\n",
              "                                                     [key], {});\n",
              "          if (!dataTable) return;\n",
              "\n",
              "          const docLinkHtml = 'Like what you see? Visit the ' +\n",
              "            '<a target=\"_blank\" href=https://colab.research.google.com/notebooks/data_table.ipynb>data table notebook</a>'\n",
              "            + ' to learn more about interactive tables.';\n",
              "          element.innerHTML = '';\n",
              "          dataTable['output_type'] = 'display_data';\n",
              "          await google.colab.output.renderOutput(dataTable, element);\n",
              "          const docLink = document.createElement('div');\n",
              "          docLink.innerHTML = docLinkHtml;\n",
              "          element.appendChild(docLink);\n",
              "        }\n",
              "      </script>\n",
              "    </div>\n",
              "  </div>\n",
              "  "
            ]
          },
          "metadata": {},
          "execution_count": 3
        }
      ]
    },
    {
      "cell_type": "markdown",
      "source": [
        "**2. Explore the data**"
      ],
      "metadata": {
        "id": "xgsl3-Fq7w6Y"
      }
    },
    {
      "cell_type": "code",
      "source": [
        "connection_data.shape"
      ],
      "metadata": {
        "colab": {
          "base_uri": "https://localhost:8080/"
        },
        "id": "y__zDfkI7x3J",
        "outputId": "3bf3947e-2c5c-4869-99d2-a23fbae7897a"
      },
      "execution_count": 4,
      "outputs": [
        {
          "output_type": "execute_result",
          "data": {
            "text/plain": [
              "(47032, 46)"
            ]
          },
          "metadata": {},
          "execution_count": 4
        }
      ]
    },
    {
      "cell_type": "code",
      "source": [
        "connection_data.info()"
      ],
      "metadata": {
        "colab": {
          "base_uri": "https://localhost:8080/"
        },
        "id": "K4JkJ8Rl71W8",
        "outputId": "f9f78a96-fd1f-4b3d-ae41-0e867192738b"
      },
      "execution_count": 5,
      "outputs": [
        {
          "output_type": "stream",
          "name": "stdout",
          "text": [
            "<class 'pandas.core.frame.DataFrame'>\n",
            "RangeIndex: 47032 entries, 0 to 47031\n",
            "Data columns (total 46 columns):\n",
            " #   Column                                                                              Non-Null Count  Dtype \n",
            "---  ------                                                                              --------------  ----- \n",
            " 0   Memory_PssTotal                                                                     47032 non-null  int64 \n",
            " 1   Memory_PssClean                                                                     47032 non-null  int64 \n",
            " 2   Memory_SharedDirty                                                                  47032 non-null  int64 \n",
            " 3   Memory_PrivateDirty                                                                 47032 non-null  int64 \n",
            " 4   Memory_SharedClean                                                                  47032 non-null  int64 \n",
            " 5   Memory_PrivateClean                                                                 47032 non-null  int64 \n",
            " 6   Memory_HeapSize                                                                     47032 non-null  int64 \n",
            " 7   Memory_HeapAlloc                                                                    47032 non-null  int64 \n",
            " 8   Memory_HeapFree                                                                     47032 non-null  int64 \n",
            " 9   Memory_Views                                                                        47032 non-null  int64 \n",
            " 10  Memory_ViewRootImpl                                                                 47032 non-null  int64 \n",
            " 11  Memory_AppContexts                                                                  47032 non-null  int64 \n",
            " 12  Memory_Activities                                                                   47032 non-null  int64 \n",
            " 13  Memory_Assets                                                                       47032 non-null  int64 \n",
            " 14  Memory_AssetManagers                                                                47032 non-null  int64 \n",
            " 15  Memory_LocalBinders                                                                 47032 non-null  int64 \n",
            " 16  Memory_ProxyBinders                                                                 47032 non-null  int64 \n",
            " 17  Memory_ParcelMemory                                                                 47032 non-null  int64 \n",
            " 18  Memory_ParcelCount                                                                  47032 non-null  int64 \n",
            " 19  API_Command_java.lang.Runtime_exec                                                  47032 non-null  int64 \n",
            " 20  API_Command_java.lang.ProcessBuilder_start                                          47032 non-null  int64 \n",
            " 21  API_WebView_android.webkit.WebView_loadUrl                                          47032 non-null  int64 \n",
            " 22  API_FileIO_android.content.ContextWrapper_deleteFile                                47032 non-null  int64 \n",
            " 23  API_Database_android.database.sqlite.SQLiteDatabase_update                          47032 non-null  int64 \n",
            " 24  API_IPC_android.content.ContextWrapper_stopService                                  47032 non-null  int64 \n",
            " 25  API_Binder_android.app.ContextImpl_registerReceiver                                 47032 non-null  int64 \n",
            " 26  API_Crypto_javax.crypto.spec.SecretKeySpec_$init                                    47032 non-null  int64 \n",
            " 27  API_Crypto-Hash_java.security.MessageDigest_digest                                  47032 non-null  int64 \n",
            " 28  API_Crypto-Hash_java.security.MessageDigest_update                                  47032 non-null  int64 \n",
            " 29  API_DeviceInfo_android.telephony.TelephonyManager_getDeviceId                       47032 non-null  int64 \n",
            " 30  API_DeviceInfo_android.telephony.TelephonyManager_getSubscriberId                   47032 non-null  int64 \n",
            " 31  API_DeviceInfo_android.telephony.TelephonyManager_getSimOperatorName                47032 non-null  int64 \n",
            " 32  API_Network_java.net.URL_openConnection                                             47032 non-null  int64 \n",
            " 33  API_Network_com.android.okhttp.internal.huc.HttpURLConnectionImpl_getInputStream    47032 non-null  int64 \n",
            " 34  API_DexClassLoader_dalvik.system.BaseDexClassLoader_findResource                    47032 non-null  int64 \n",
            " 35  API_DexClassLoader_dalvik.system.DexFile_loadDex                                    47032 non-null  int64 \n",
            " 36  API_Base64_android.util.Base64_decode                                               47032 non-null  int64 \n",
            " 37  API_SystemManager_android.app.ApplicationPackageManager_setComponentEnabledSetting  47032 non-null  int64 \n",
            " 38  API_SystemManager_android.content.BroadcastReceiver_abortBroadcast                  47032 non-null  int64 \n",
            " 39  API_SMS_android.telephony.SmsManager_sendTextMessage                                47032 non-null  int64 \n",
            " 40  API_DeviceData_android.content.ContentResolver_registerContentObserver              47032 non-null  int64 \n",
            " 41  Network_TotalReceivedBytes                                                          47032 non-null  int64 \n",
            " 42  Network_TotalReceivedPackets                                                        47032 non-null  int64 \n",
            " 43  Network_TotalTransmittedBytes                                                       47032 non-null  int64 \n",
            " 44  Network_TotalTransmittedPackets                                                     47032 non-null  int64 \n",
            " 45  Category                                                                            47032 non-null  object\n",
            "dtypes: int64(45), object(1)\n",
            "memory usage: 16.5+ MB\n"
          ]
        }
      ]
    },
    {
      "cell_type": "code",
      "source": [
        "connection_data.describe()"
      ],
      "metadata": {
        "colab": {
          "base_uri": "https://localhost:8080/",
          "height": 394
        },
        "id": "U4p2-LRB74B1",
        "outputId": "9dabedf1-8b7e-43aa-d78d-20cf6acc0218"
      },
      "execution_count": 6,
      "outputs": [
        {
          "output_type": "execute_result",
          "data": {
            "text/plain": [
              "       Memory_PssTotal  Memory_PssClean  Memory_SharedDirty  \\\n",
              "count     47032.000000     47032.000000        47032.000000   \n",
              "mean      70066.030277     12696.908573        10858.466661   \n",
              "std       35067.733913     12923.587798         2244.178601   \n",
              "min        4506.000000         0.000000         7036.000000   \n",
              "25%       45996.000000      3952.000000        10544.000000   \n",
              "50%       60454.500000      6264.000000        10728.000000   \n",
              "75%       91019.750000     19909.000000        11132.000000   \n",
              "max      829169.000000    106360.000000       446548.000000   \n",
              "\n",
              "       Memory_PrivateDirty  Memory_SharedClean  Memory_PrivateClean  \\\n",
              "count         47032.000000        47032.000000         47032.000000   \n",
              "mean          46776.315275        87947.190764         14305.071015   \n",
              "std           28335.704319        15994.720499         13488.810568   \n",
              "min              12.000000         4268.000000             0.000000   \n",
              "25%           31876.000000        76444.000000          5008.000000   \n",
              "50%           41064.000000        89640.000000          8152.000000   \n",
              "75%           54669.000000        99180.000000         21541.000000   \n",
              "max          826672.000000       183600.000000        110336.000000   \n",
              "\n",
              "       Memory_HeapSize  Memory_HeapAlloc  Memory_HeapFree  Memory_Views  ...  \\\n",
              "count     47032.000000      47032.000000     47032.000000  47032.000000  ...   \n",
              "mean      21836.077458      17179.782935      4655.302220     83.215704  ...   \n",
              "std       12251.405628      10234.316094      2878.223628    163.565694  ...   \n",
              "min        5113.000000       3249.000000       983.000000      0.000000  ...   \n",
              "25%       13240.000000      10349.750000      2976.000000      9.000000  ...   \n",
              "50%       20066.000000      16360.500000      4008.000000     34.000000  ...   \n",
              "75%       27820.000000      22274.250000      5730.000000    112.000000  ...   \n",
              "max      310155.000000     253856.000000     88630.000000  11164.000000  ...   \n",
              "\n",
              "       API_DexClassLoader_dalvik.system.DexFile_loadDex  \\\n",
              "count                                      47032.000000   \n",
              "mean                                           0.121407   \n",
              "std                                            1.781443   \n",
              "min                                            0.000000   \n",
              "25%                                            0.000000   \n",
              "50%                                            0.000000   \n",
              "75%                                            0.000000   \n",
              "max                                           62.000000   \n",
              "\n",
              "       API_Base64_android.util.Base64_decode  \\\n",
              "count                           47032.000000   \n",
              "mean                              226.005060   \n",
              "std                               858.208668   \n",
              "min                                 0.000000   \n",
              "25%                                 0.000000   \n",
              "50%                                 0.000000   \n",
              "75%                                 0.000000   \n",
              "max                             26729.000000   \n",
              "\n",
              "       API_SystemManager_android.app.ApplicationPackageManager_setComponentEnabledSetting  \\\n",
              "count                                       47032.000000                                    \n",
              "mean                                            3.985818                                    \n",
              "std                                            91.191986                                    \n",
              "min                                             0.000000                                    \n",
              "25%                                             0.000000                                    \n",
              "50%                                             0.000000                                    \n",
              "75%                                             0.000000                                    \n",
              "max                                          9296.000000                                    \n",
              "\n",
              "       API_SystemManager_android.content.BroadcastReceiver_abortBroadcast  \\\n",
              "count                                       47032.000000                    \n",
              "mean                                            0.028810                    \n",
              "std                                             0.236024                    \n",
              "min                                             0.000000                    \n",
              "25%                                             0.000000                    \n",
              "50%                                             0.000000                    \n",
              "75%                                             0.000000                    \n",
              "max                                            15.000000                    \n",
              "\n",
              "       API_SMS_android.telephony.SmsManager_sendTextMessage  \\\n",
              "count                                       47032.000000      \n",
              "mean                                            0.172670      \n",
              "std                                             2.806416      \n",
              "min                                             0.000000      \n",
              "25%                                             0.000000      \n",
              "50%                                             0.000000      \n",
              "75%                                             0.000000      \n",
              "max                                           306.000000      \n",
              "\n",
              "       API_DeviceData_android.content.ContentResolver_registerContentObserver  \\\n",
              "count                                       47032.000000                        \n",
              "mean                                           27.414654                        \n",
              "std                                            58.934643                        \n",
              "min                                             0.000000                        \n",
              "25%                                             0.000000                        \n",
              "50%                                             2.000000                        \n",
              "75%                                            20.000000                        \n",
              "max                                          1302.000000                        \n",
              "\n",
              "       Network_TotalReceivedBytes  Network_TotalReceivedPackets  \\\n",
              "count                4.703200e+04                   47032.00000   \n",
              "mean                 1.083389e+06                     830.12921   \n",
              "std                  1.114890e+07                    7881.72742   \n",
              "min                  0.000000e+00                       0.00000   \n",
              "25%                  0.000000e+00                       0.00000   \n",
              "50%                  1.236000e+03                      10.00000   \n",
              "75%                  1.110225e+04                      68.00000   \n",
              "max                  2.320056e+08                  166574.00000   \n",
              "\n",
              "       Network_TotalTransmittedBytes  Network_TotalTransmittedPackets  \n",
              "count                   4.703200e+04                     47032.000000  \n",
              "mean                    3.160736e+04                       478.422457  \n",
              "std                     1.686664e+05                      3801.344833  \n",
              "min                     0.000000e+00                         0.000000  \n",
              "25%                     0.000000e+00                         0.000000  \n",
              "50%                     3.544500e+03                        20.000000  \n",
              "75%                     1.626325e+04                       120.000000  \n",
              "max                     5.826047e+06                     85873.000000  \n",
              "\n",
              "[8 rows x 45 columns]"
            ],
            "text/html": [
              "\n",
              "  <div id=\"df-332afb81-050e-4732-a0b5-2473390ad69a\">\n",
              "    <div class=\"colab-df-container\">\n",
              "      <div>\n",
              "<style scoped>\n",
              "    .dataframe tbody tr th:only-of-type {\n",
              "        vertical-align: middle;\n",
              "    }\n",
              "\n",
              "    .dataframe tbody tr th {\n",
              "        vertical-align: top;\n",
              "    }\n",
              "\n",
              "    .dataframe thead th {\n",
              "        text-align: right;\n",
              "    }\n",
              "</style>\n",
              "<table border=\"1\" class=\"dataframe\">\n",
              "  <thead>\n",
              "    <tr style=\"text-align: right;\">\n",
              "      <th></th>\n",
              "      <th>Memory_PssTotal</th>\n",
              "      <th>Memory_PssClean</th>\n",
              "      <th>Memory_SharedDirty</th>\n",
              "      <th>Memory_PrivateDirty</th>\n",
              "      <th>Memory_SharedClean</th>\n",
              "      <th>Memory_PrivateClean</th>\n",
              "      <th>Memory_HeapSize</th>\n",
              "      <th>Memory_HeapAlloc</th>\n",
              "      <th>Memory_HeapFree</th>\n",
              "      <th>Memory_Views</th>\n",
              "      <th>...</th>\n",
              "      <th>API_DexClassLoader_dalvik.system.DexFile_loadDex</th>\n",
              "      <th>API_Base64_android.util.Base64_decode</th>\n",
              "      <th>API_SystemManager_android.app.ApplicationPackageManager_setComponentEnabledSetting</th>\n",
              "      <th>API_SystemManager_android.content.BroadcastReceiver_abortBroadcast</th>\n",
              "      <th>API_SMS_android.telephony.SmsManager_sendTextMessage</th>\n",
              "      <th>API_DeviceData_android.content.ContentResolver_registerContentObserver</th>\n",
              "      <th>Network_TotalReceivedBytes</th>\n",
              "      <th>Network_TotalReceivedPackets</th>\n",
              "      <th>Network_TotalTransmittedBytes</th>\n",
              "      <th>Network_TotalTransmittedPackets</th>\n",
              "    </tr>\n",
              "  </thead>\n",
              "  <tbody>\n",
              "    <tr>\n",
              "      <th>count</th>\n",
              "      <td>47032.000000</td>\n",
              "      <td>47032.000000</td>\n",
              "      <td>47032.000000</td>\n",
              "      <td>47032.000000</td>\n",
              "      <td>47032.000000</td>\n",
              "      <td>47032.000000</td>\n",
              "      <td>47032.000000</td>\n",
              "      <td>47032.000000</td>\n",
              "      <td>47032.000000</td>\n",
              "      <td>47032.000000</td>\n",
              "      <td>...</td>\n",
              "      <td>47032.000000</td>\n",
              "      <td>47032.000000</td>\n",
              "      <td>47032.000000</td>\n",
              "      <td>47032.000000</td>\n",
              "      <td>47032.000000</td>\n",
              "      <td>47032.000000</td>\n",
              "      <td>4.703200e+04</td>\n",
              "      <td>47032.00000</td>\n",
              "      <td>4.703200e+04</td>\n",
              "      <td>47032.000000</td>\n",
              "    </tr>\n",
              "    <tr>\n",
              "      <th>mean</th>\n",
              "      <td>70066.030277</td>\n",
              "      <td>12696.908573</td>\n",
              "      <td>10858.466661</td>\n",
              "      <td>46776.315275</td>\n",
              "      <td>87947.190764</td>\n",
              "      <td>14305.071015</td>\n",
              "      <td>21836.077458</td>\n",
              "      <td>17179.782935</td>\n",
              "      <td>4655.302220</td>\n",
              "      <td>83.215704</td>\n",
              "      <td>...</td>\n",
              "      <td>0.121407</td>\n",
              "      <td>226.005060</td>\n",
              "      <td>3.985818</td>\n",
              "      <td>0.028810</td>\n",
              "      <td>0.172670</td>\n",
              "      <td>27.414654</td>\n",
              "      <td>1.083389e+06</td>\n",
              "      <td>830.12921</td>\n",
              "      <td>3.160736e+04</td>\n",
              "      <td>478.422457</td>\n",
              "    </tr>\n",
              "    <tr>\n",
              "      <th>std</th>\n",
              "      <td>35067.733913</td>\n",
              "      <td>12923.587798</td>\n",
              "      <td>2244.178601</td>\n",
              "      <td>28335.704319</td>\n",
              "      <td>15994.720499</td>\n",
              "      <td>13488.810568</td>\n",
              "      <td>12251.405628</td>\n",
              "      <td>10234.316094</td>\n",
              "      <td>2878.223628</td>\n",
              "      <td>163.565694</td>\n",
              "      <td>...</td>\n",
              "      <td>1.781443</td>\n",
              "      <td>858.208668</td>\n",
              "      <td>91.191986</td>\n",
              "      <td>0.236024</td>\n",
              "      <td>2.806416</td>\n",
              "      <td>58.934643</td>\n",
              "      <td>1.114890e+07</td>\n",
              "      <td>7881.72742</td>\n",
              "      <td>1.686664e+05</td>\n",
              "      <td>3801.344833</td>\n",
              "    </tr>\n",
              "    <tr>\n",
              "      <th>min</th>\n",
              "      <td>4506.000000</td>\n",
              "      <td>0.000000</td>\n",
              "      <td>7036.000000</td>\n",
              "      <td>12.000000</td>\n",
              "      <td>4268.000000</td>\n",
              "      <td>0.000000</td>\n",
              "      <td>5113.000000</td>\n",
              "      <td>3249.000000</td>\n",
              "      <td>983.000000</td>\n",
              "      <td>0.000000</td>\n",
              "      <td>...</td>\n",
              "      <td>0.000000</td>\n",
              "      <td>0.000000</td>\n",
              "      <td>0.000000</td>\n",
              "      <td>0.000000</td>\n",
              "      <td>0.000000</td>\n",
              "      <td>0.000000</td>\n",
              "      <td>0.000000e+00</td>\n",
              "      <td>0.00000</td>\n",
              "      <td>0.000000e+00</td>\n",
              "      <td>0.000000</td>\n",
              "    </tr>\n",
              "    <tr>\n",
              "      <th>25%</th>\n",
              "      <td>45996.000000</td>\n",
              "      <td>3952.000000</td>\n",
              "      <td>10544.000000</td>\n",
              "      <td>31876.000000</td>\n",
              "      <td>76444.000000</td>\n",
              "      <td>5008.000000</td>\n",
              "      <td>13240.000000</td>\n",
              "      <td>10349.750000</td>\n",
              "      <td>2976.000000</td>\n",
              "      <td>9.000000</td>\n",
              "      <td>...</td>\n",
              "      <td>0.000000</td>\n",
              "      <td>0.000000</td>\n",
              "      <td>0.000000</td>\n",
              "      <td>0.000000</td>\n",
              "      <td>0.000000</td>\n",
              "      <td>0.000000</td>\n",
              "      <td>0.000000e+00</td>\n",
              "      <td>0.00000</td>\n",
              "      <td>0.000000e+00</td>\n",
              "      <td>0.000000</td>\n",
              "    </tr>\n",
              "    <tr>\n",
              "      <th>50%</th>\n",
              "      <td>60454.500000</td>\n",
              "      <td>6264.000000</td>\n",
              "      <td>10728.000000</td>\n",
              "      <td>41064.000000</td>\n",
              "      <td>89640.000000</td>\n",
              "      <td>8152.000000</td>\n",
              "      <td>20066.000000</td>\n",
              "      <td>16360.500000</td>\n",
              "      <td>4008.000000</td>\n",
              "      <td>34.000000</td>\n",
              "      <td>...</td>\n",
              "      <td>0.000000</td>\n",
              "      <td>0.000000</td>\n",
              "      <td>0.000000</td>\n",
              "      <td>0.000000</td>\n",
              "      <td>0.000000</td>\n",
              "      <td>2.000000</td>\n",
              "      <td>1.236000e+03</td>\n",
              "      <td>10.00000</td>\n",
              "      <td>3.544500e+03</td>\n",
              "      <td>20.000000</td>\n",
              "    </tr>\n",
              "    <tr>\n",
              "      <th>75%</th>\n",
              "      <td>91019.750000</td>\n",
              "      <td>19909.000000</td>\n",
              "      <td>11132.000000</td>\n",
              "      <td>54669.000000</td>\n",
              "      <td>99180.000000</td>\n",
              "      <td>21541.000000</td>\n",
              "      <td>27820.000000</td>\n",
              "      <td>22274.250000</td>\n",
              "      <td>5730.000000</td>\n",
              "      <td>112.000000</td>\n",
              "      <td>...</td>\n",
              "      <td>0.000000</td>\n",
              "      <td>0.000000</td>\n",
              "      <td>0.000000</td>\n",
              "      <td>0.000000</td>\n",
              "      <td>0.000000</td>\n",
              "      <td>20.000000</td>\n",
              "      <td>1.110225e+04</td>\n",
              "      <td>68.00000</td>\n",
              "      <td>1.626325e+04</td>\n",
              "      <td>120.000000</td>\n",
              "    </tr>\n",
              "    <tr>\n",
              "      <th>max</th>\n",
              "      <td>829169.000000</td>\n",
              "      <td>106360.000000</td>\n",
              "      <td>446548.000000</td>\n",
              "      <td>826672.000000</td>\n",
              "      <td>183600.000000</td>\n",
              "      <td>110336.000000</td>\n",
              "      <td>310155.000000</td>\n",
              "      <td>253856.000000</td>\n",
              "      <td>88630.000000</td>\n",
              "      <td>11164.000000</td>\n",
              "      <td>...</td>\n",
              "      <td>62.000000</td>\n",
              "      <td>26729.000000</td>\n",
              "      <td>9296.000000</td>\n",
              "      <td>15.000000</td>\n",
              "      <td>306.000000</td>\n",
              "      <td>1302.000000</td>\n",
              "      <td>2.320056e+08</td>\n",
              "      <td>166574.00000</td>\n",
              "      <td>5.826047e+06</td>\n",
              "      <td>85873.000000</td>\n",
              "    </tr>\n",
              "  </tbody>\n",
              "</table>\n",
              "<p>8 rows × 45 columns</p>\n",
              "</div>\n",
              "      <button class=\"colab-df-convert\" onclick=\"convertToInteractive('df-332afb81-050e-4732-a0b5-2473390ad69a')\"\n",
              "              title=\"Convert this dataframe to an interactive table.\"\n",
              "              style=\"display:none;\">\n",
              "        \n",
              "  <svg xmlns=\"http://www.w3.org/2000/svg\" height=\"24px\"viewBox=\"0 0 24 24\"\n",
              "       width=\"24px\">\n",
              "    <path d=\"M0 0h24v24H0V0z\" fill=\"none\"/>\n",
              "    <path d=\"M18.56 5.44l.94 2.06.94-2.06 2.06-.94-2.06-.94-.94-2.06-.94 2.06-2.06.94zm-11 1L8.5 8.5l.94-2.06 2.06-.94-2.06-.94L8.5 2.5l-.94 2.06-2.06.94zm10 10l.94 2.06.94-2.06 2.06-.94-2.06-.94-.94-2.06-.94 2.06-2.06.94z\"/><path d=\"M17.41 7.96l-1.37-1.37c-.4-.4-.92-.59-1.43-.59-.52 0-1.04.2-1.43.59L10.3 9.45l-7.72 7.72c-.78.78-.78 2.05 0 2.83L4 21.41c.39.39.9.59 1.41.59.51 0 1.02-.2 1.41-.59l7.78-7.78 2.81-2.81c.8-.78.8-2.07 0-2.86zM5.41 20L4 18.59l7.72-7.72 1.47 1.35L5.41 20z\"/>\n",
              "  </svg>\n",
              "      </button>\n",
              "      \n",
              "  <style>\n",
              "    .colab-df-container {\n",
              "      display:flex;\n",
              "      flex-wrap:wrap;\n",
              "      gap: 12px;\n",
              "    }\n",
              "\n",
              "    .colab-df-convert {\n",
              "      background-color: #E8F0FE;\n",
              "      border: none;\n",
              "      border-radius: 50%;\n",
              "      cursor: pointer;\n",
              "      display: none;\n",
              "      fill: #1967D2;\n",
              "      height: 32px;\n",
              "      padding: 0 0 0 0;\n",
              "      width: 32px;\n",
              "    }\n",
              "\n",
              "    .colab-df-convert:hover {\n",
              "      background-color: #E2EBFA;\n",
              "      box-shadow: 0px 1px 2px rgba(60, 64, 67, 0.3), 0px 1px 3px 1px rgba(60, 64, 67, 0.15);\n",
              "      fill: #174EA6;\n",
              "    }\n",
              "\n",
              "    [theme=dark] .colab-df-convert {\n",
              "      background-color: #3B4455;\n",
              "      fill: #D2E3FC;\n",
              "    }\n",
              "\n",
              "    [theme=dark] .colab-df-convert:hover {\n",
              "      background-color: #434B5C;\n",
              "      box-shadow: 0px 1px 3px 1px rgba(0, 0, 0, 0.15);\n",
              "      filter: drop-shadow(0px 1px 2px rgba(0, 0, 0, 0.3));\n",
              "      fill: #FFFFFF;\n",
              "    }\n",
              "  </style>\n",
              "\n",
              "      <script>\n",
              "        const buttonEl =\n",
              "          document.querySelector('#df-332afb81-050e-4732-a0b5-2473390ad69a button.colab-df-convert');\n",
              "        buttonEl.style.display =\n",
              "          google.colab.kernel.accessAllowed ? 'block' : 'none';\n",
              "\n",
              "        async function convertToInteractive(key) {\n",
              "          const element = document.querySelector('#df-332afb81-050e-4732-a0b5-2473390ad69a');\n",
              "          const dataTable =\n",
              "            await google.colab.kernel.invokeFunction('convertToInteractive',\n",
              "                                                     [key], {});\n",
              "          if (!dataTable) return;\n",
              "\n",
              "          const docLinkHtml = 'Like what you see? Visit the ' +\n",
              "            '<a target=\"_blank\" href=https://colab.research.google.com/notebooks/data_table.ipynb>data table notebook</a>'\n",
              "            + ' to learn more about interactive tables.';\n",
              "          element.innerHTML = '';\n",
              "          dataTable['output_type'] = 'display_data';\n",
              "          await google.colab.output.renderOutput(dataTable, element);\n",
              "          const docLink = document.createElement('div');\n",
              "          docLink.innerHTML = docLinkHtml;\n",
              "          element.appendChild(docLink);\n",
              "        }\n",
              "      </script>\n",
              "    </div>\n",
              "  </div>\n",
              "  "
            ]
          },
          "metadata": {},
          "execution_count": 6
        }
      ]
    },
    {
      "cell_type": "code",
      "source": [
        "connection_data.columns"
      ],
      "metadata": {
        "colab": {
          "base_uri": "https://localhost:8080/"
        },
        "id": "uxjExWuN75VD",
        "outputId": "ea93de73-f1f7-4412-f7ff-28b480c50c60"
      },
      "execution_count": 7,
      "outputs": [
        {
          "output_type": "execute_result",
          "data": {
            "text/plain": [
              "Index(['Memory_PssTotal', 'Memory_PssClean', 'Memory_SharedDirty',\n",
              "       'Memory_PrivateDirty', 'Memory_SharedClean', 'Memory_PrivateClean',\n",
              "       'Memory_HeapSize', 'Memory_HeapAlloc', 'Memory_HeapFree',\n",
              "       'Memory_Views', 'Memory_ViewRootImpl', 'Memory_AppContexts',\n",
              "       'Memory_Activities', 'Memory_Assets', 'Memory_AssetManagers',\n",
              "       'Memory_LocalBinders', 'Memory_ProxyBinders', 'Memory_ParcelMemory',\n",
              "       'Memory_ParcelCount', 'API_Command_java.lang.Runtime_exec',\n",
              "       'API_Command_java.lang.ProcessBuilder_start',\n",
              "       'API_WebView_android.webkit.WebView_loadUrl',\n",
              "       'API_FileIO_android.content.ContextWrapper_deleteFile',\n",
              "       'API_Database_android.database.sqlite.SQLiteDatabase_update',\n",
              "       'API_IPC_android.content.ContextWrapper_stopService',\n",
              "       'API_Binder_android.app.ContextImpl_registerReceiver',\n",
              "       'API_Crypto_javax.crypto.spec.SecretKeySpec_$init',\n",
              "       'API_Crypto-Hash_java.security.MessageDigest_digest',\n",
              "       'API_Crypto-Hash_java.security.MessageDigest_update',\n",
              "       'API_DeviceInfo_android.telephony.TelephonyManager_getDeviceId',\n",
              "       'API_DeviceInfo_android.telephony.TelephonyManager_getSubscriberId',\n",
              "       'API_DeviceInfo_android.telephony.TelephonyManager_getSimOperatorName',\n",
              "       'API_Network_java.net.URL_openConnection',\n",
              "       'API_Network_com.android.okhttp.internal.huc.HttpURLConnectionImpl_getInputStream',\n",
              "       'API_DexClassLoader_dalvik.system.BaseDexClassLoader_findResource',\n",
              "       'API_DexClassLoader_dalvik.system.DexFile_loadDex',\n",
              "       'API_Base64_android.util.Base64_decode',\n",
              "       'API_SystemManager_android.app.ApplicationPackageManager_setComponentEnabledSetting',\n",
              "       'API_SystemManager_android.content.BroadcastReceiver_abortBroadcast',\n",
              "       'API_SMS_android.telephony.SmsManager_sendTextMessage',\n",
              "       'API_DeviceData_android.content.ContentResolver_registerContentObserver',\n",
              "       'Network_TotalReceivedBytes', 'Network_TotalReceivedPackets',\n",
              "       'Network_TotalTransmittedBytes', 'Network_TotalTransmittedPackets',\n",
              "       'Category'],\n",
              "      dtype='object')"
            ]
          },
          "metadata": {},
          "execution_count": 7
        }
      ]
    },
    {
      "cell_type": "code",
      "source": [
        "connection_data.nunique()"
      ],
      "metadata": {
        "colab": {
          "base_uri": "https://localhost:8080/"
        },
        "id": "wrOMRjkA762o",
        "outputId": "6ec61a41-9d5d-4622-c434-0025be5f7883"
      },
      "execution_count": 8,
      "outputs": [
        {
          "output_type": "execute_result",
          "data": {
            "text/plain": [
              "Memory_PssTotal                                                                       36637\n",
              "Memory_PssClean                                                                        9818\n",
              "Memory_SharedDirty                                                                     1636\n",
              "Memory_PrivateDirty                                                                   16678\n",
              "Memory_SharedClean                                                                    15147\n",
              "Memory_PrivateClean                                                                   10515\n",
              "Memory_HeapSize                                                                       23121\n",
              "Memory_HeapAlloc                                                                      22841\n",
              "Memory_HeapFree                                                                        9467\n",
              "Memory_Views                                                                            924\n",
              "Memory_ViewRootImpl                                                                      61\n",
              "Memory_AppContexts                                                                       59\n",
              "Memory_Activities                                                                        45\n",
              "Memory_Assets                                                                            31\n",
              "Memory_AssetManagers                                                                      1\n",
              "Memory_LocalBinders                                                                     157\n",
              "Memory_ProxyBinders                                                                      83\n",
              "Memory_ParcelMemory                                                                     114\n",
              "Memory_ParcelCount                                                                      169\n",
              "API_Command_java.lang.Runtime_exec                                                      440\n",
              "API_Command_java.lang.ProcessBuilder_start                                              300\n",
              "API_WebView_android.webkit.WebView_loadUrl                                              124\n",
              "API_FileIO_android.content.ContextWrapper_deleteFile                                     54\n",
              "API_Database_android.database.sqlite.SQLiteDatabase_update                               88\n",
              "API_IPC_android.content.ContextWrapper_stopService                                       30\n",
              "API_Binder_android.app.ContextImpl_registerReceiver                                     515\n",
              "API_Crypto_javax.crypto.spec.SecretKeySpec_$init                                        827\n",
              "API_Crypto-Hash_java.security.MessageDigest_digest                                     1234\n",
              "API_Crypto-Hash_java.security.MessageDigest_update                                     1692\n",
              "API_DeviceInfo_android.telephony.TelephonyManager_getDeviceId                           366\n",
              "API_DeviceInfo_android.telephony.TelephonyManager_getSubscriberId                       327\n",
              "API_DeviceInfo_android.telephony.TelephonyManager_getSimOperatorName                    104\n",
              "API_Network_java.net.URL_openConnection                                                 337\n",
              "API_Network_com.android.okhttp.internal.huc.HttpURLConnectionImpl_getInputStream        166\n",
              "API_DexClassLoader_dalvik.system.BaseDexClassLoader_findResource                        223\n",
              "API_DexClassLoader_dalvik.system.DexFile_loadDex                                         39\n",
              "API_Base64_android.util.Base64_decode                                                  2347\n",
              "API_SystemManager_android.app.ApplicationPackageManager_setComponentEnabledSetting       79\n",
              "API_SystemManager_android.content.BroadcastReceiver_abortBroadcast                       10\n",
              "API_SMS_android.telephony.SmsManager_sendTextMessage                                     51\n",
              "API_DeviceData_android.content.ContentResolver_registerContentObserver                  358\n",
              "Network_TotalReceivedBytes                                                            15488\n",
              "Network_TotalReceivedPackets                                                           2789\n",
              "Network_TotalTransmittedBytes                                                         18340\n",
              "Network_TotalTransmittedPackets                                                        2579\n",
              "Category                                                                                 12\n",
              "dtype: int64"
            ]
          },
          "metadata": {},
          "execution_count": 8
        }
      ]
    },
    {
      "cell_type": "markdown",
      "source": [
        "**3. Divide the data into the training and test datasets**"
      ],
      "metadata": {
        "id": "7skUZcIZ8Wmx"
      }
    },
    {
      "cell_type": "code",
      "source": [
        "from sklearn.preprocessing import LabelEncoder\n",
        "le = LabelEncoder()"
      ],
      "metadata": {
        "id": "wwhRSOEFEctv"
      },
      "execution_count": 9,
      "outputs": []
    },
    {
      "cell_type": "code",
      "source": [
        "X = connection_data.drop('Category', axis=1)\n",
        "y = le.fit_transform(connection_data['Category'])"
      ],
      "metadata": {
        "id": "_nqkqfqE8ivS"
      },
      "execution_count": 45,
      "outputs": []
    },
    {
      "cell_type": "code",
      "source": [
        "from sklearn.model_selection import train_test_split"
      ],
      "metadata": {
        "id": "R2BFRAWa8sAr"
      },
      "execution_count": 46,
      "outputs": []
    },
    {
      "cell_type": "code",
      "source": [
        "X_train, X_test, y_train, y_test = train_test_split(X, y, test_size=0.2)"
      ],
      "metadata": {
        "id": "Jnn0IHTh8yVp"
      },
      "execution_count": 47,
      "outputs": []
    },
    {
      "cell_type": "code",
      "source": [
        "X_train.shape"
      ],
      "metadata": {
        "colab": {
          "base_uri": "https://localhost:8080/"
        },
        "id": "YmVzIAA580wL",
        "outputId": "69bce940-01bd-41f8-d09c-559886e83337"
      },
      "execution_count": 48,
      "outputs": [
        {
          "output_type": "execute_result",
          "data": {
            "text/plain": [
              "(37625, 45)"
            ]
          },
          "metadata": {},
          "execution_count": 48
        }
      ]
    },
    {
      "cell_type": "code",
      "source": [
        "X_test.shape"
      ],
      "metadata": {
        "colab": {
          "base_uri": "https://localhost:8080/"
        },
        "id": "M_MSSDkh83wa",
        "outputId": "603fd9db-6e21-41fa-d972-e0a57d1cbefd"
      },
      "execution_count": 49,
      "outputs": [
        {
          "output_type": "execute_result",
          "data": {
            "text/plain": [
              "(9407, 45)"
            ]
          },
          "metadata": {},
          "execution_count": 49
        }
      ]
    },
    {
      "cell_type": "code",
      "source": [
        "from keras.utils import to_categorical"
      ],
      "metadata": {
        "id": "jj8mwXSZCdSB"
      },
      "execution_count": 50,
      "outputs": []
    },
    {
      "cell_type": "code",
      "source": [
        "y_train_cat = to_categorical(y_train)\n",
        "y_test_cat = to_categorical(y_test)"
      ],
      "metadata": {
        "id": "gGXrfy6RBVLF"
      },
      "execution_count": 51,
      "outputs": []
    },
    {
      "cell_type": "markdown",
      "source": [
        "**4. Scaling data**"
      ],
      "metadata": {
        "id": "fUEJh6gA8_UZ"
      }
    },
    {
      "cell_type": "code",
      "source": [
        "from sklearn.preprocessing import StandardScaler\n",
        "scaler = StandardScaler()"
      ],
      "metadata": {
        "id": "eePq8tpq86iL"
      },
      "execution_count": 17,
      "outputs": []
    },
    {
      "cell_type": "code",
      "source": [
        "X_train_scaled = scaler.fit_transform(X_train)\n",
        "X_test_scaled = scaler.transform(X_test)"
      ],
      "metadata": {
        "id": "clLI95Lw9Clu"
      },
      "execution_count": 18,
      "outputs": []
    },
    {
      "cell_type": "code",
      "source": [
        "from tensorflow.keras import Sequential\n",
        "from tensorflow.keras.layers import Dense\n",
        "from tensorflow.keras.layers import Dropout\n",
        "from tensorflow.keras.layers import Flatten\n",
        "from tensorflow.keras.optimizers import Adam"
      ],
      "metadata": {
        "id": "E43EaPxK9Fmb"
      },
      "execution_count": 21,
      "outputs": []
    },
    {
      "cell_type": "code",
      "source": [
        "def build_model(hp):\n",
        "    model = Sequential()\n",
        "    model.add(Flatten(input_shape=(X_train_scaled.shape[1],)))\n",
        "    model.add(Dense(units=hp.Int('units',\n",
        "                                min_value=300,\n",
        "                                max_value=500,\n",
        "                                step=100),\n",
        "                    activation='relu'))\n",
        "    model.add(Dropout(0.2))\n",
        "\n",
        "    model.add(Dense(units=hp.Int('units',\n",
        "                                min_value=100,\n",
        "                                max_value=300,\n",
        "                                step=50),\n",
        "                    activation='relu'))\n",
        "    model.add(Dropout(0.2))\n",
        "\n",
        "    model.add(Dense(units=hp.Int('units',\n",
        "                                min_value=100,\n",
        "                                max_value=200,\n",
        "                                step=50),\n",
        "                    activation='relu'))\n",
        "    model.add(Dropout(0.2))\n",
        "\n",
        "    model.add(Dense(12, activation='softmax'))\n",
        "\n",
        "    model.compile(Adam(hp.Choice('learning_rate', [1e-2, 1e-3, 1e-4])),\n",
        "                  loss='categorical_crossentropy',\n",
        "                  metrics=['accuracy'])\n",
        "    \n",
        "    return model"
      ],
      "metadata": {
        "id": "-Sn6lCmx9Q44"
      },
      "execution_count": 22,
      "outputs": []
    },
    {
      "cell_type": "markdown",
      "source": [
        "**6. Tune the hyper-parameters**"
      ],
      "metadata": {
        "id": "4J7eNjUZ-HI5"
      }
    },
    {
      "cell_type": "code",
      "source": [
        "pip install keras-tuner --upgrade"
      ],
      "metadata": {
        "colab": {
          "base_uri": "https://localhost:8080/"
        },
        "id": "b6zg5fPn9_jz",
        "outputId": "facfa812-a506-47bb-a291-9f0256cb3a18"
      },
      "execution_count": 23,
      "outputs": [
        {
          "output_type": "stream",
          "name": "stdout",
          "text": [
            "Looking in indexes: https://pypi.org/simple, https://us-python.pkg.dev/colab-wheels/public/simple/\n",
            "Collecting keras-tuner\n",
            "  Downloading keras_tuner-1.3.5-py3-none-any.whl (176 kB)\n",
            "\u001b[2K     \u001b[90m━━━━━━━━━━━━━━━━━━━━━━━━━━━━━━━━━━━━━━\u001b[0m \u001b[32m176.1/176.1 kB\u001b[0m \u001b[31m15.7 MB/s\u001b[0m eta \u001b[36m0:00:00\u001b[0m\n",
            "\u001b[?25hRequirement already satisfied: packaging in /usr/local/lib/python3.9/dist-packages (from keras-tuner) (23.0)\n",
            "Collecting kt-legacy\n",
            "  Downloading kt_legacy-1.0.5-py3-none-any.whl (9.6 kB)\n",
            "Requirement already satisfied: requests in /usr/local/lib/python3.9/dist-packages (from keras-tuner) (2.27.1)\n",
            "Requirement already satisfied: urllib3<1.27,>=1.21.1 in /usr/local/lib/python3.9/dist-packages (from requests->keras-tuner) (1.26.15)\n",
            "Requirement already satisfied: certifi>=2017.4.17 in /usr/local/lib/python3.9/dist-packages (from requests->keras-tuner) (2022.12.7)\n",
            "Requirement already satisfied: idna<4,>=2.5 in /usr/local/lib/python3.9/dist-packages (from requests->keras-tuner) (3.4)\n",
            "Requirement already satisfied: charset-normalizer~=2.0.0 in /usr/local/lib/python3.9/dist-packages (from requests->keras-tuner) (2.0.12)\n",
            "Installing collected packages: kt-legacy, keras-tuner\n",
            "Successfully installed keras-tuner-1.3.5 kt-legacy-1.0.5\n"
          ]
        }
      ]
    },
    {
      "cell_type": "code",
      "source": [
        "from kerastuner.tuners import RandomSearch"
      ],
      "metadata": {
        "id": "iCL8CYnf-Jxy"
      },
      "execution_count": 24,
      "outputs": []
    },
    {
      "cell_type": "code",
      "source": [
        "tuner = RandomSearch(\n",
        "    build_model,\n",
        "    objective='val_accuracy',\n",
        "    max_trials=5)"
      ],
      "metadata": {
        "id": "_4fh246w-Mgt"
      },
      "execution_count": 25,
      "outputs": []
    },
    {
      "cell_type": "code",
      "source": [
        "tuner.search(X_train_scaled, y_train, epochs=5, validation_split=0.3)\n",
        "best_model = tuner.get_best_models()[0]"
      ],
      "metadata": {
        "id": "RwjgFpq--O05",
        "colab": {
          "base_uri": "https://localhost:8080/"
        },
        "outputId": "1801ceff-3b7e-47fa-e15e-14231ad4d3c2"
      },
      "execution_count": 26,
      "outputs": [
        {
          "output_type": "stream",
          "name": "stdout",
          "text": [
            "Trial 5 Complete [00h 00m 24s]\n",
            "val_accuracy: 0.5543940663337708\n",
            "\n",
            "Best val_accuracy So Far: 0.7500885725021362\n",
            "Total elapsed time: 00h 02m 47s\n"
          ]
        }
      ]
    },
    {
      "cell_type": "markdown",
      "source": [
        "**7. Fitting the model to the training data**"
      ],
      "metadata": {
        "id": "RqSdoW1gWnzY"
      }
    },
    {
      "cell_type": "code",
      "source": [
        "best_model.summary()"
      ],
      "metadata": {
        "colab": {
          "base_uri": "https://localhost:8080/"
        },
        "id": "b6fA55MfcXg7",
        "outputId": "6e2598ac-1ab7-4181-9176-24f07b73bf6b"
      },
      "execution_count": 29,
      "outputs": [
        {
          "output_type": "stream",
          "name": "stdout",
          "text": [
            "Model: \"sequential\"\n",
            "_________________________________________________________________\n",
            " Layer (type)                Output Shape              Param #   \n",
            "=================================================================\n",
            " flatten (Flatten)           (None, 45)                0         \n",
            "                                                                 \n",
            " dense (Dense)               (None, 300)               13800     \n",
            "                                                                 \n",
            " dropout (Dropout)           (None, 300)               0         \n",
            "                                                                 \n",
            " dense_1 (Dense)             (None, 300)               90300     \n",
            "                                                                 \n",
            " dropout_1 (Dropout)         (None, 300)               0         \n",
            "                                                                 \n",
            " dense_2 (Dense)             (None, 300)               90300     \n",
            "                                                                 \n",
            " dropout_2 (Dropout)         (None, 300)               0         \n",
            "                                                                 \n",
            " dense_3 (Dense)             (None, 12)                3612      \n",
            "                                                                 \n",
            "=================================================================\n",
            "Total params: 198,012\n",
            "Trainable params: 198,012\n",
            "Non-trainable params: 0\n",
            "_________________________________________________________________\n"
          ]
        }
      ]
    },
    {
      "cell_type": "code",
      "source": [
        "best_model.fit(X_train_scaled, y_train, epochs=30, validation_split=0.2, batch_size=50)"
      ],
      "metadata": {
        "colab": {
          "base_uri": "https://localhost:8080/"
        },
        "id": "1Tio_XPMFukl",
        "outputId": "ede96eb8-0e52-4b87-85cc-b2e31f493252"
      },
      "execution_count": 30,
      "outputs": [
        {
          "output_type": "stream",
          "name": "stdout",
          "text": [
            "Epoch 1/30\n",
            "602/602 [==============================] - 3s 5ms/step - loss: 0.4583 - accuracy: 0.8389 - val_loss: 0.5492 - val_accuracy: 0.8168\n",
            "Epoch 2/30\n",
            "602/602 [==============================] - 3s 5ms/step - loss: 0.4472 - accuracy: 0.8410 - val_loss: 0.5096 - val_accuracy: 0.8271\n",
            "Epoch 3/30\n",
            "602/602 [==============================] - 4s 6ms/step - loss: 0.4337 - accuracy: 0.8459 - val_loss: 0.5141 - val_accuracy: 0.8287\n",
            "Epoch 4/30\n",
            "602/602 [==============================] - 4s 6ms/step - loss: 0.4350 - accuracy: 0.8447 - val_loss: 0.5082 - val_accuracy: 0.8305\n",
            "Epoch 5/30\n",
            "602/602 [==============================] - 3s 6ms/step - loss: 0.4289 - accuracy: 0.8459 - val_loss: 0.5132 - val_accuracy: 0.8296\n",
            "Epoch 6/30\n",
            "602/602 [==============================] - 3s 6ms/step - loss: 0.4263 - accuracy: 0.8486 - val_loss: 0.5039 - val_accuracy: 0.8345\n",
            "Epoch 7/30\n",
            "602/602 [==============================] - 5s 8ms/step - loss: 0.4199 - accuracy: 0.8470 - val_loss: 0.5033 - val_accuracy: 0.8341\n",
            "Epoch 8/30\n",
            "602/602 [==============================] - 3s 6ms/step - loss: 0.4209 - accuracy: 0.8496 - val_loss: 0.4887 - val_accuracy: 0.8382\n",
            "Epoch 9/30\n",
            "602/602 [==============================] - 3s 5ms/step - loss: 0.4120 - accuracy: 0.8518 - val_loss: 0.4964 - val_accuracy: 0.8353\n",
            "Epoch 10/30\n",
            "602/602 [==============================] - 3s 5ms/step - loss: 0.4074 - accuracy: 0.8545 - val_loss: 0.4889 - val_accuracy: 0.8409\n",
            "Epoch 11/30\n",
            "602/602 [==============================] - 4s 6ms/step - loss: 0.4018 - accuracy: 0.8564 - val_loss: 0.4871 - val_accuracy: 0.8397\n",
            "Epoch 12/30\n",
            "602/602 [==============================] - 3s 5ms/step - loss: 0.3999 - accuracy: 0.8549 - val_loss: 0.4831 - val_accuracy: 0.8459\n",
            "Epoch 13/30\n",
            "602/602 [==============================] - 3s 5ms/step - loss: 0.4029 - accuracy: 0.8556 - val_loss: 0.4802 - val_accuracy: 0.8422\n",
            "Epoch 14/30\n",
            "602/602 [==============================] - 3s 6ms/step - loss: 0.3905 - accuracy: 0.8583 - val_loss: 0.4871 - val_accuracy: 0.8450\n",
            "Epoch 15/30\n",
            "602/602 [==============================] - 4s 6ms/step - loss: 0.3982 - accuracy: 0.8563 - val_loss: 0.4777 - val_accuracy: 0.8463\n",
            "Epoch 16/30\n",
            "602/602 [==============================] - 3s 5ms/step - loss: 0.3924 - accuracy: 0.8592 - val_loss: 0.4725 - val_accuracy: 0.8497\n",
            "Epoch 17/30\n",
            "602/602 [==============================] - 3s 6ms/step - loss: 0.3934 - accuracy: 0.8595 - val_loss: 0.4770 - val_accuracy: 0.8496\n",
            "Epoch 18/30\n",
            "602/602 [==============================] - 3s 5ms/step - loss: 0.3783 - accuracy: 0.8601 - val_loss: 0.4814 - val_accuracy: 0.8498\n",
            "Epoch 19/30\n",
            "602/602 [==============================] - 4s 6ms/step - loss: 0.3806 - accuracy: 0.8636 - val_loss: 0.4864 - val_accuracy: 0.8416\n",
            "Epoch 20/30\n",
            "602/602 [==============================] - 4s 6ms/step - loss: 0.3776 - accuracy: 0.8648 - val_loss: 0.4785 - val_accuracy: 0.8513\n",
            "Epoch 21/30\n",
            "602/602 [==============================] - 3s 5ms/step - loss: 0.3749 - accuracy: 0.8649 - val_loss: 0.4771 - val_accuracy: 0.8507\n",
            "Epoch 22/30\n",
            "602/602 [==============================] - 3s 5ms/step - loss: 0.3843 - accuracy: 0.8620 - val_loss: 0.4791 - val_accuracy: 0.8513\n",
            "Epoch 23/30\n",
            "602/602 [==============================] - 4s 6ms/step - loss: 0.3767 - accuracy: 0.8645 - val_loss: 0.4649 - val_accuracy: 0.8508\n",
            "Epoch 24/30\n",
            "602/602 [==============================] - 3s 6ms/step - loss: 0.3763 - accuracy: 0.8657 - val_loss: 0.4666 - val_accuracy: 0.8498\n",
            "Epoch 25/30\n",
            "602/602 [==============================] - 3s 5ms/step - loss: 0.3712 - accuracy: 0.8649 - val_loss: 0.4686 - val_accuracy: 0.8498\n",
            "Epoch 26/30\n",
            "602/602 [==============================] - 3s 5ms/step - loss: 0.3733 - accuracy: 0.8638 - val_loss: 0.4735 - val_accuracy: 0.8542\n",
            "Epoch 27/30\n",
            "602/602 [==============================] - 3s 6ms/step - loss: 0.3594 - accuracy: 0.8688 - val_loss: 0.4783 - val_accuracy: 0.8549\n",
            "Epoch 28/30\n",
            "602/602 [==============================] - 4s 7ms/step - loss: 0.3656 - accuracy: 0.8695 - val_loss: 0.4747 - val_accuracy: 0.8533\n",
            "Epoch 29/30\n",
            "602/602 [==============================] - 3s 6ms/step - loss: 0.3572 - accuracy: 0.8686 - val_loss: 0.4722 - val_accuracy: 0.8524\n",
            "Epoch 30/30\n",
            "602/602 [==============================] - 4s 6ms/step - loss: 0.3578 - accuracy: 0.8690 - val_loss: 0.4702 - val_accuracy: 0.8538\n"
          ]
        },
        {
          "output_type": "execute_result",
          "data": {
            "text/plain": [
              "<keras.callbacks.History at 0x7f4e86a94cd0>"
            ]
          },
          "metadata": {},
          "execution_count": 30
        }
      ]
    },
    {
      "cell_type": "markdown",
      "source": [
        "**8. Evaluate the quality of the trained model using test dataset**"
      ],
      "metadata": {
        "id": "d4q_0cqaWppg"
      }
    },
    {
      "cell_type": "code",
      "source": [
        "best_model.evaluate(X_test_scaled, y_test)"
      ],
      "metadata": {
        "id": "YkrMvCjyF4Z9",
        "colab": {
          "base_uri": "https://localhost:8080/"
        },
        "outputId": "e0d6104a-2da1-4aac-c33d-8988cb240e3b"
      },
      "execution_count": 31,
      "outputs": [
        {
          "output_type": "stream",
          "name": "stdout",
          "text": [
            "294/294 [==============================] - 1s 3ms/step - loss: 0.5767 - accuracy: 0.8315\n"
          ]
        },
        {
          "output_type": "execute_result",
          "data": {
            "text/plain": [
              "[0.5767399668693542, 0.831508457660675]"
            ]
          },
          "metadata": {},
          "execution_count": 31
        }
      ]
    },
    {
      "cell_type": "markdown",
      "source": [
        "**9. Make prediction using the trained model**"
      ],
      "metadata": {
        "id": "HBA5mLRCdK0q"
      }
    },
    {
      "cell_type": "code",
      "source": [
        "best_model.predict(X_test[:5])"
      ],
      "metadata": {
        "colab": {
          "base_uri": "https://localhost:8080/"
        },
        "id": "IFRl4ZeNduAy",
        "outputId": "3a94e167-0c62-4ff2-c3e4-cd044b40779d"
      },
      "execution_count": 60,
      "outputs": [
        {
          "output_type": "stream",
          "name": "stdout",
          "text": [
            "1/1 [==============================] - 0s 66ms/step\n"
          ]
        },
        {
          "output_type": "execute_result",
          "data": {
            "text/plain": [
              "array([[0., 0., 0., 1., 0., 0., 0., 0., 0., 0., 0., 0.],\n",
              "       [0., 0., 0., 0., 0., 1., 0., 0., 0., 0., 0., 0.],\n",
              "       [0., 0., 0., 1., 0., 0., 0., 0., 0., 0., 0., 0.],\n",
              "       [0., 0., 0., 0., 0., 1., 0., 0., 0., 0., 0., 0.],\n",
              "       [0., 0., 0., 0., 0., 1., 0., 0., 0., 0., 0., 0.]], dtype=float32)"
            ]
          },
          "metadata": {},
          "execution_count": 60
        }
      ]
    }
  ]
}